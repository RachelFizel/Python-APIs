{
 "cells": [
  {
   "cell_type": "markdown",
   "metadata": {},
   "source": [
    "# WeatherPy\n",
    "----\n",
    "\n",
    "#### Note\n",
    "* Instructions have been included for each segment. You do not have to follow them exactly, but they are included to help you think through the steps."
   ]
  },
  {
   "cell_type": "code",
   "execution_count": 1,
   "metadata": {
    "scrolled": true
   },
   "outputs": [],
   "source": [
    "# Dependencies and Setup\n",
    "import matplotlib.pyplot as plt\n",
    "import pandas as pd\n",
    "import numpy as np\n",
    "import requests\n",
    "import time\n",
    "from scipy.stats import linregress\n",
    "#import scipy.stats as st\n",
    "\n",
    "# Import API key\n",
    "from api_keys import weather_api_key\n",
    "\n",
    "# Incorporated citipy to determine city based on latitude and longitude\n",
    "from citipy import citipy\n",
    "\n",
    "# Output File (CSV)\n",
    "output_data_file = \"output_data/cities.csv\"\n",
    "\n",
    "# Range of latitudes and longitudes\n",
    "lat_range = (-90, 90)\n",
    "lng_range = (-180, 180)"
   ]
  },
  {
   "cell_type": "code",
   "execution_count": 2,
   "metadata": {},
   "outputs": [],
   "source": [
    "# Save config information\n",
    "url = \"http://api.openweathermap.org/data/2.5/weather?\"\n",
    "\n",
    "city_name = []\n",
    "city_number = []\n",
    "latitude = []\n",
    "temperature = []\n",
    "humidity = []\n",
    "cloudiness = []\n",
    "wind_speed = []\n",
    "\n",
    "x = -1"
   ]
  },
  {
   "cell_type": "markdown",
   "metadata": {},
   "source": [
    "## Generate Cities List"
   ]
  },
  {
   "cell_type": "code",
   "execution_count": 3,
   "metadata": {},
   "outputs": [
    {
     "data": {
      "text/plain": [
       "580"
      ]
     },
     "execution_count": 3,
     "metadata": {},
     "output_type": "execute_result"
    }
   ],
   "source": [
    "# List for holding lat_lngs and cities\n",
    "lat_lngs = []\n",
    "cities = []\n",
    "\n",
    "\n",
    "\n",
    "# Create a set of random lat and lng combinations\n",
    "lats = np.random.uniform(lat_range[0], lat_range[1], size=1500)\n",
    "lngs = np.random.uniform(lng_range[0], lng_range[1], size=1500)\n",
    "lat_lngs = zip(lats, lngs)\n",
    "\n",
    "# Identify nearest city for each lat, lng combination\n",
    "for lat_lng in lat_lngs:\n",
    "    city = citipy.nearest_city(lat_lng[0], lat_lng[1]).city_name\n",
    "#below is so I do not go over the rate limits\n",
    "#cities = ['Kovūr','Mar del Plata','Barrow']\n",
    "    # If the city is unique, then add it to a our cities list\n",
    "    if city not in cities:\n",
    "        cities.append(city)\n",
    "\n",
    "\n",
    "# Print the city count to confirm sufficient count\n",
    "len(cities)\n",
    "\n"
   ]
  },
  {
   "cell_type": "markdown",
   "metadata": {},
   "source": [
    "### Perform API Calls\n",
    "* Perform a weather check on each city using a series of successive API calls.\n",
    "* Include a print log of each city as it'sbeing processed (with the city number and city name).\n"
   ]
  },
  {
   "cell_type": "code",
   "execution_count": 4,
   "metadata": {},
   "outputs": [
    {
     "name": "stdout",
     "output_type": "stream",
     "text": [
      "City Number: 3443061 City Name: Chui\n",
      "City Number: 6201424 City Name: Mataura\n",
      "City Number: 5848280 City Name: Kapaa\n",
      "City Number: 5855927 City Name: Hilo\n",
      "city not found\n"
     ]
    }
   ],
   "source": [
    "\n",
    "\n",
    "for city in cities[:5]:\n",
    "    # Build query URL\n",
    "    query_url = url + \"appid=\" + weather_api_key + \"&q=\" + city\n",
    "    \n",
    "    try:\n",
    "        \n",
    "        #get data\n",
    "        weather_response = requests.get(query_url)\n",
    "        weather_json = weather_response.json()\n",
    "        city_number.append(weather_json['id'])\n",
    "        city_name.append(weather_json['name'])\n",
    "        latitude.append(weather_json['coord']['lon'])\n",
    "        temperature.append(weather_json['main']['temp_max'])\n",
    "        humidity.append(weather_json['main']['humidity'])\n",
    "        cloudiness.append(weather_json['clouds']['all'])\n",
    "        wind_speed.append(weather_json['wind']['speed'])\n",
    "        x = x + 1\n",
    "        print(f'City Number: {city_number[x]} City Name: {city_name[x]}')\n",
    "\n",
    "    except:\n",
    "        \n",
    "        print(\"city not found\")\n",
    "\n",
    "\n",
    "\n"
   ]
  },
  {
   "cell_type": "code",
   "execution_count": 5,
   "metadata": {},
   "outputs": [
    {
     "name": "stdout",
     "output_type": "stream",
     "text": [
      "['Chui', 'Mataura', 'Kapaa', 'Hilo'] [3443061, 6201424, 5848280, 5855927] [-53.4616, 168.8643, -159.319, -155.09] [294.29, 283.54, 297.15, 299.15] [87, 87, 57, 57] [96, 100, 75, 90] [4.58, 5.51, 5.14, 3.6]\n"
     ]
    }
   ],
   "source": [
    "print(city_name, city_number, latitude, temperature, humidity, cloudiness, wind_speed)"
   ]
  },
  {
   "cell_type": "code",
   "execution_count": null,
   "metadata": {
    "scrolled": true
   },
   "outputs": [],
   "source": []
  },
  {
   "cell_type": "markdown",
   "metadata": {},
   "source": [
    "### Convert Raw Data to DataFrame\n",
    "* Export the city data into a .csv.\n",
    "* Display the DataFrame"
   ]
  },
  {
   "cell_type": "code",
   "execution_count": 6,
   "metadata": {},
   "outputs": [],
   "source": [
    "city_results = pd.DataFrame({\"City Name\" : city_name,\n",
    "                              \"City Number\": city_number,\n",
    "                              \"Latitude\" : latitude,\n",
    "                              \"Temperature\" : temperature,\n",
    "                              \"Humidity\" : humidity,\n",
    "                              \"Cloudiness\" : cloudiness,\n",
    "                              \"Wind Speed\" : wind_speed})\n",
    "\n",
    "city_results.to_csv(\"City Results\", encoding = \"utf-8\", index = False)"
   ]
  },
  {
   "cell_type": "code",
   "execution_count": 7,
   "metadata": {},
   "outputs": [
    {
     "data": {
      "text/html": [
       "<div>\n",
       "<style scoped>\n",
       "    .dataframe tbody tr th:only-of-type {\n",
       "        vertical-align: middle;\n",
       "    }\n",
       "\n",
       "    .dataframe tbody tr th {\n",
       "        vertical-align: top;\n",
       "    }\n",
       "\n",
       "    .dataframe thead th {\n",
       "        text-align: right;\n",
       "    }\n",
       "</style>\n",
       "<table border=\"1\" class=\"dataframe\">\n",
       "  <thead>\n",
       "    <tr style=\"text-align: right;\">\n",
       "      <th></th>\n",
       "      <th>City Name</th>\n",
       "      <th>City Number</th>\n",
       "      <th>Latitude</th>\n",
       "      <th>Temperature</th>\n",
       "      <th>Humidity</th>\n",
       "      <th>Cloudiness</th>\n",
       "      <th>Wind Speed</th>\n",
       "    </tr>\n",
       "  </thead>\n",
       "  <tbody>\n",
       "    <tr>\n",
       "      <th>0</th>\n",
       "      <td>Chui</td>\n",
       "      <td>3443061</td>\n",
       "      <td>-53.4616</td>\n",
       "      <td>294.29</td>\n",
       "      <td>87</td>\n",
       "      <td>96</td>\n",
       "      <td>4.58</td>\n",
       "    </tr>\n",
       "    <tr>\n",
       "      <th>1</th>\n",
       "      <td>Mataura</td>\n",
       "      <td>6201424</td>\n",
       "      <td>168.8643</td>\n",
       "      <td>283.54</td>\n",
       "      <td>87</td>\n",
       "      <td>100</td>\n",
       "      <td>5.51</td>\n",
       "    </tr>\n",
       "    <tr>\n",
       "      <th>2</th>\n",
       "      <td>Kapaa</td>\n",
       "      <td>5848280</td>\n",
       "      <td>-159.3190</td>\n",
       "      <td>297.15</td>\n",
       "      <td>57</td>\n",
       "      <td>75</td>\n",
       "      <td>5.14</td>\n",
       "    </tr>\n",
       "    <tr>\n",
       "      <th>3</th>\n",
       "      <td>Hilo</td>\n",
       "      <td>5855927</td>\n",
       "      <td>-155.0900</td>\n",
       "      <td>299.15</td>\n",
       "      <td>57</td>\n",
       "      <td>90</td>\n",
       "      <td>3.60</td>\n",
       "    </tr>\n",
       "  </tbody>\n",
       "</table>\n",
       "</div>"
      ],
      "text/plain": [
       "  City Name  City Number  Latitude  Temperature  Humidity  Cloudiness  \\\n",
       "0      Chui      3443061  -53.4616       294.29        87          96   \n",
       "1   Mataura      6201424  168.8643       283.54        87         100   \n",
       "2     Kapaa      5848280 -159.3190       297.15        57          75   \n",
       "3      Hilo      5855927 -155.0900       299.15        57          90   \n",
       "\n",
       "   Wind Speed  \n",
       "0        4.58  \n",
       "1        5.51  \n",
       "2        5.14  \n",
       "3        3.60  "
      ]
     },
     "execution_count": 7,
     "metadata": {},
     "output_type": "execute_result"
    }
   ],
   "source": [
    "city_results"
   ]
  },
  {
   "cell_type": "markdown",
   "metadata": {},
   "source": [
    "## Inspect the data and remove the cities where the humidity > 100%.\n",
    "----\n",
    "Skip this step if there are no cities that have humidity > 100%. "
   ]
  },
  {
   "cell_type": "code",
   "execution_count": null,
   "metadata": {},
   "outputs": [],
   "source": []
  },
  {
   "cell_type": "code",
   "execution_count": 8,
   "metadata": {},
   "outputs": [
    {
     "name": "stdout",
     "output_type": "stream",
     "text": [
      "Int64Index([], dtype='int64')\n"
     ]
    }
   ],
   "source": [
    "#how to get the indices?  .iloc\n",
    "#  Get the indices of cities that have humidity over 100%.\n",
    "humid_cities = []\n",
    "####update to 100%\n",
    "#get a list of cities that have humidity < 100\n",
    "humid_cities = city_results[city_results[\"Humidity\"] > 100].index\n",
    "\n",
    "print(humid_cities)\n"
   ]
  },
  {
   "cell_type": "code",
   "execution_count": 9,
   "metadata": {},
   "outputs": [
    {
     "data": {
      "text/html": [
       "<div>\n",
       "<style scoped>\n",
       "    .dataframe tbody tr th:only-of-type {\n",
       "        vertical-align: middle;\n",
       "    }\n",
       "\n",
       "    .dataframe tbody tr th {\n",
       "        vertical-align: top;\n",
       "    }\n",
       "\n",
       "    .dataframe thead th {\n",
       "        text-align: right;\n",
       "    }\n",
       "</style>\n",
       "<table border=\"1\" class=\"dataframe\">\n",
       "  <thead>\n",
       "    <tr style=\"text-align: right;\">\n",
       "      <th></th>\n",
       "      <th>City Name</th>\n",
       "      <th>City Number</th>\n",
       "      <th>Latitude</th>\n",
       "      <th>Temperature</th>\n",
       "      <th>Humidity</th>\n",
       "      <th>Cloudiness</th>\n",
       "      <th>Wind Speed</th>\n",
       "    </tr>\n",
       "  </thead>\n",
       "  <tbody>\n",
       "    <tr>\n",
       "      <th>0</th>\n",
       "      <td>Chui</td>\n",
       "      <td>3443061</td>\n",
       "      <td>-53.4616</td>\n",
       "      <td>294.29</td>\n",
       "      <td>87</td>\n",
       "      <td>96</td>\n",
       "      <td>4.58</td>\n",
       "    </tr>\n",
       "    <tr>\n",
       "      <th>1</th>\n",
       "      <td>Mataura</td>\n",
       "      <td>6201424</td>\n",
       "      <td>168.8643</td>\n",
       "      <td>283.54</td>\n",
       "      <td>87</td>\n",
       "      <td>100</td>\n",
       "      <td>5.51</td>\n",
       "    </tr>\n",
       "    <tr>\n",
       "      <th>2</th>\n",
       "      <td>Kapaa</td>\n",
       "      <td>5848280</td>\n",
       "      <td>-159.3190</td>\n",
       "      <td>297.15</td>\n",
       "      <td>57</td>\n",
       "      <td>75</td>\n",
       "      <td>5.14</td>\n",
       "    </tr>\n",
       "    <tr>\n",
       "      <th>3</th>\n",
       "      <td>Hilo</td>\n",
       "      <td>5855927</td>\n",
       "      <td>-155.0900</td>\n",
       "      <td>299.15</td>\n",
       "      <td>57</td>\n",
       "      <td>90</td>\n",
       "      <td>3.60</td>\n",
       "    </tr>\n",
       "  </tbody>\n",
       "</table>\n",
       "</div>"
      ],
      "text/plain": [
       "  City Name  City Number  Latitude  Temperature  Humidity  Cloudiness  \\\n",
       "0      Chui      3443061  -53.4616       294.29        87          96   \n",
       "1   Mataura      6201424  168.8643       283.54        87         100   \n",
       "2     Kapaa      5848280 -159.3190       297.15        57          75   \n",
       "3      Hilo      5855927 -155.0900       299.15        57          90   \n",
       "\n",
       "   Wind Speed  \n",
       "0        4.58  \n",
       "1        5.51  \n",
       "2        5.14  \n",
       "3        3.60  "
      ]
     },
     "execution_count": 9,
     "metadata": {},
     "output_type": "execute_result"
    }
   ],
   "source": [
    "clean_city_data = city_results.drop(humid_cities,inplace = False)\n",
    "\n",
    "clean_city_data"
   ]
  },
  {
   "cell_type": "code",
   "execution_count": null,
   "metadata": {},
   "outputs": [],
   "source": [
    "\n"
   ]
  },
  {
   "cell_type": "markdown",
   "metadata": {},
   "source": [
    "## Plotting the Data\n",
    "* Use proper labeling of the plots using plot titles (including date of analysis) and axes labels.\n",
    "* Save the plotted figures as .pngs."
   ]
  },
  {
   "cell_type": "markdown",
   "metadata": {},
   "source": [
    "## Latitude vs. Temperature Plot"
   ]
  },
  {
   "cell_type": "code",
   "execution_count": 10,
   "metadata": {
    "scrolled": true
   },
   "outputs": [
    {
     "data": {
      "image/png": "[encoded data removed]",
      "text/plain": [
       "<Figure size 432x288 with 1 Axes>"
      ]
     },
     "metadata": {
      "needs_background": "light"
     },
     "output_type": "display_data"
    }
   ],
   "source": [
    "Latitude = clean_city_data[\"Latitude\"]\n",
    "Temperature = clean_city_data[\"Temperature\"]\n",
    "##? when to use plt.scatter and when to use df.plot?\n",
    "\n",
    "#using matplotlib\n",
    "plt.scatter(Latitude, Temperature, marker=\"o\", facecolors=\"red\", edgecolors=\"black\")\n",
    "plt.legend([\"test\"])\n",
    "plt.xlabel('Latitued')\n",
    "plt.ylabel('Temperature')\n",
    "plt.title(('Latitued vs Temperature'))\n",
    "#            #s=x_axis, alpha=0.75)\n",
    "\n",
    "\n",
    "plt.show()"
   ]
  },
  {
   "cell_type": "markdown",
   "metadata": {},
   "source": [
    "## Latitude vs. Humidity Plot"
   ]
  },
  {
   "cell_type": "code",
   "execution_count": 11,
   "metadata": {},
   "outputs": [
    {
     "data": {
      "text/plain": [
       "<function matplotlib.pyplot.show(*args, **kw)>"
      ]
     },
     "execution_count": 11,
     "metadata": {},
     "output_type": "execute_result"
    },
    {
     "data": {
      "image/png": "[encoded data removed]",
      "text/plain": [
       "<Figure size 432x288 with 1 Axes>"
      ]
     },
     "metadata": {
      "needs_background": "light"
     },
     "output_type": "display_data"
    }
   ],
   "source": [
    "Latitude = clean_city_data[\"Latitude\"]\n",
    "Humidity = clean_city_data[\"Humidity\"]\n",
    "##?how do I decide which goes first - latitued or humidity \n",
    "plt.scatter(Latitude, Humidity, marker=\"o\", facecolors=\"red\", edgecolors=\"black\")\n",
    "            #s=x_axis, alpha=0.75)\n",
    "    \n",
    "plt.show"
   ]
  },
  {
   "cell_type": "markdown",
   "metadata": {},
   "source": [
    "## Latitude vs. Cloudiness Plot"
   ]
  },
  {
   "cell_type": "code",
   "execution_count": null,
   "metadata": {},
   "outputs": [],
   "source": []
  },
  {
   "cell_type": "markdown",
   "metadata": {},
   "source": [
    "## Latitude vs. Wind Speed Plot"
   ]
  },
  {
   "cell_type": "code",
   "execution_count": null,
   "metadata": {},
   "outputs": [],
   "source": []
  },
  {
   "cell_type": "markdown",
   "metadata": {},
   "source": [
    "## Linear Regression"
   ]
  },
  {
   "cell_type": "code",
   "execution_count": 12,
   "metadata": {},
   "outputs": [
    {
     "name": "stdout",
     "output_type": "stream",
     "text": [
      "0.09092327193524889\n"
     ]
    }
   ],
   "source": [
    "#the starter code had from scipy.stats import linregress\n",
    "\n",
    "w_slope, w_intercept, w_cap_r, w_cap_p, w_cap_std_err = linregress(Latitude, Humidity)\n",
    "\n",
    "\n",
    "print(w_slope)"
   ]
  },
  {
   "cell_type": "code",
   "execution_count": 13,
   "metadata": {},
   "outputs": [],
   "source": [
    "#function\n",
    "# Add the linear regression equation and line to plot\n",
    "def find_lin_reg(x_values, y_values, title, cordinates):\n",
    "#x_values = housing_data['RM']\n",
    "#y_values = housing_data['MEDV']\n",
    "    (slope, intercept, rvalue, pvalue, stderr) = linregress(x_values, y_values)\n",
    "    regress_values = x_values * slope + intercept\n",
    "    line_eq = \"y = \" + str(round(slope,2)) + \"x + \" + str(round(intercept,2))\n",
    "    plt.scatter(x_values,y_values)\n",
    "    plt.plot(x_values,regress_values,\"r-\")\n",
    "    plt.annotate(line_eq,cordinates,fontsize=15,color=\"red\")\n",
    "    plt.xlabel('Latitude')\n",
    "    plt.ylabel(title)\n",
    "    plt.show()"
   ]
  },
  {
   "cell_type": "code",
   "execution_count": 14,
   "metadata": {},
   "outputs": [
    {
     "data": {
      "text/html": [
       "<div>\n",
       "<style scoped>\n",
       "    .dataframe tbody tr th:only-of-type {\n",
       "        vertical-align: middle;\n",
       "    }\n",
       "\n",
       "    .dataframe tbody tr th {\n",
       "        vertical-align: top;\n",
       "    }\n",
       "\n",
       "    .dataframe thead th {\n",
       "        text-align: right;\n",
       "    }\n",
       "</style>\n",
       "<table border=\"1\" class=\"dataframe\">\n",
       "  <thead>\n",
       "    <tr style=\"text-align: right;\">\n",
       "      <th></th>\n",
       "      <th>City Name</th>\n",
       "      <th>City Number</th>\n",
       "      <th>Latitude</th>\n",
       "      <th>Temperature</th>\n",
       "      <th>Humidity</th>\n",
       "      <th>Cloudiness</th>\n",
       "      <th>Wind Speed</th>\n",
       "    </tr>\n",
       "  </thead>\n",
       "  <tbody>\n",
       "    <tr>\n",
       "      <th>0</th>\n",
       "      <td>Chui</td>\n",
       "      <td>3443061</td>\n",
       "      <td>-53.4616</td>\n",
       "      <td>294.29</td>\n",
       "      <td>87</td>\n",
       "      <td>96</td>\n",
       "      <td>4.58</td>\n",
       "    </tr>\n",
       "    <tr>\n",
       "      <th>2</th>\n",
       "      <td>Kapaa</td>\n",
       "      <td>5848280</td>\n",
       "      <td>-159.3190</td>\n",
       "      <td>297.15</td>\n",
       "      <td>57</td>\n",
       "      <td>75</td>\n",
       "      <td>5.14</td>\n",
       "    </tr>\n",
       "    <tr>\n",
       "      <th>3</th>\n",
       "      <td>Hilo</td>\n",
       "      <td>5855927</td>\n",
       "      <td>-155.0900</td>\n",
       "      <td>299.15</td>\n",
       "      <td>57</td>\n",
       "      <td>90</td>\n",
       "      <td>3.60</td>\n",
       "    </tr>\n",
       "  </tbody>\n",
       "</table>\n",
       "</div>"
      ],
      "text/plain": [
       "  City Name  City Number  Latitude  Temperature  Humidity  Cloudiness  \\\n",
       "0      Chui      3443061  -53.4616       294.29        87          96   \n",
       "2     Kapaa      5848280 -159.3190       297.15        57          75   \n",
       "3      Hilo      5855927 -155.0900       299.15        57          90   \n",
       "\n",
       "   Wind Speed  \n",
       "0        4.58  \n",
       "2        5.14  \n",
       "3        3.60  "
      ]
     },
     "execution_count": 14,
     "metadata": {},
     "output_type": "execute_result"
    }
   ],
   "source": [
    "northern_data = clean_city_data.loc[clean_city_data[\"Latitude\"]>= 0]\n",
    "southern_data = clean_city_data.loc[clean_city_data[\"Latitude\"]< 0]\n",
    "southern_data"
   ]
  },
  {
   "cell_type": "markdown",
   "metadata": {},
   "source": [
    "####  Northern Hemisphere - Max Temp vs. Latitude Linear Regression"
   ]
  },
  {
   "cell_type": "code",
   "execution_count": 15,
   "metadata": {},
   "outputs": [
    {
     "name": "stderr",
     "output_type": "stream",
     "text": [
      "C:\\Users\\rache\\anaconda3\\envs\\PythonData\\lib\\site-packages\\scipy\\stats\\_stats_mstats_common.py:130: RuntimeWarning: invalid value encountered in double_scalars\n",
      "  slope = r_num / ssxm\n",
      "C:\\Users\\rache\\anaconda3\\envs\\PythonData\\lib\\site-packages\\scipy\\stats\\_stats_mstats_common.py:140: RuntimeWarning: invalid value encountered in sqrt\n",
      "  t = r * np.sqrt(df / ((1.0 - r + TINY)*(1.0 + r + TINY)))\n",
      "C:\\Users\\rache\\anaconda3\\envs\\PythonData\\lib\\site-packages\\scipy\\stats\\_distn_infrastructure.py:1932: RuntimeWarning: invalid value encountered in less_equal\n",
      "  cond2 = cond0 & (x <= _a)\n",
      "C:\\Users\\rache\\anaconda3\\envs\\PythonData\\lib\\site-packages\\scipy\\stats\\_stats_mstats_common.py:142: RuntimeWarning: invalid value encountered in double_scalars\n",
      "  sterrest = np.sqrt((1 - r**2) * ssym / ssxm / df)\n"
     ]
    },
    {
     "data": {
      "image/png": "[encoded data removed]",
      "text/plain": [
       "<Figure size 432x288 with 1 Axes>"
      ]
     },
     "metadata": {
      "needs_background": "light"
     },
     "output_type": "display_data"
    }
   ],
   "source": [
    "x_values = northern_data[\"Latitude\"]\n",
    "y_values = northern_data[\"Temperature\"]\n",
    "\n",
    "find_lin_reg(x_values, y_values,'Max Temp', (10,265))\n"
   ]
  },
  {
   "cell_type": "markdown",
   "metadata": {},
   "source": [
    "####  Southern Hemisphere - Max Temp vs. Latitude Linear Regression"
   ]
  },
  {
   "cell_type": "code",
   "execution_count": 16,
   "metadata": {},
   "outputs": [
    {
     "data": {
      "image/png": "[encoded data removed]",
      "text/plain": [
       "<Figure size 432x288 with 1 Axes>"
      ]
     },
     "metadata": {
      "needs_background": "light"
     },
     "output_type": "display_data"
    }
   ],
   "source": [
    "x_values = southern_data[\"Latitude\"]\n",
    "y_values = southern_data[\"Temperature\"]\n",
    "\n",
    "find_lin_reg(x_values, y_values,'Max Temp', (-160,250))\n"
   ]
  },
  {
   "cell_type": "markdown",
   "metadata": {},
   "source": [
    "####  Northern Hemisphere - Humidity (%) vs. Latitude Linear Regression"
   ]
  },
  {
   "cell_type": "code",
   "execution_count": null,
   "metadata": {},
   "outputs": [],
   "source": []
  },
  {
   "cell_type": "markdown",
   "metadata": {},
   "source": [
    "####  Southern Hemisphere - Humidity (%) vs. Latitude Linear Regression"
   ]
  },
  {
   "cell_type": "code",
   "execution_count": null,
   "metadata": {},
   "outputs": [],
   "source": []
  },
  {
   "cell_type": "markdown",
   "metadata": {},
   "source": [
    "####  Northern Hemisphere - Cloudiness (%) vs. Latitude Linear Regression"
   ]
  },
  {
   "cell_type": "code",
   "execution_count": null,
   "metadata": {},
   "outputs": [],
   "source": []
  },
  {
   "cell_type": "markdown",
   "metadata": {},
   "source": [
    "####  Southern Hemisphere - Cloudiness (%) vs. Latitude Linear Regression"
   ]
  },
  {
   "cell_type": "code",
   "execution_count": null,
   "metadata": {},
   "outputs": [],
   "source": []
  },
  {
   "cell_type": "markdown",
   "metadata": {},
   "source": [
    "####  Northern Hemisphere - Wind Speed (mph) vs. Latitude Linear Regression"
   ]
  },
  {
   "cell_type": "code",
   "execution_count": null,
   "metadata": {},
   "outputs": [],
   "source": []
  },
  {
   "cell_type": "markdown",
   "metadata": {},
   "source": [
    "####  Southern Hemisphere - Wind Speed (mph) vs. Latitude Linear Regression"
   ]
  },
  {
   "cell_type": "code",
   "execution_count": null,
   "metadata": {},
   "outputs": [],
   "source": []
  },
  {
   "cell_type": "code",
   "execution_count": null,
   "metadata": {},
   "outputs": [],
   "source": []
  }
 ],
 "metadata": {
  "anaconda-cloud": {},
  "kernel_info": {
   "name": "python3"
  },
  "kernelspec": {
   "display_name": "Python 3",
   "language": "python",
   "name": "python3"
  },
  "language_info": {
   "codemirror_mode": {
    "name": "ipython",
    "version": 3
   },
   "file_extension": ".py",
   "mimetype": "text/x-python",
   "name": "python",
   "nbconvert_exporter": "python",
   "pygments_lexer": "ipython3",
   "version": "3.6.10"
  },
  "latex_envs": {
   "LaTeX_envs_menu_present": true,
   "autoclose": false,
   "autocomplete": true,
   "bibliofile": "biblio.bib",
   "cite_by": "apalike",
   "current_citInitial": 1,
   "eqLabelWithNumbers": true,
   "eqNumInitial": 1,
   "hotkeys": {
    "equation": "Ctrl-E",
    "itemize": "Ctrl-I"
   },
   "labels_anchors": false,
   "latex_user_defs": false,
   "report_style_numbering": false,
   "user_envs_cfg": false
  },
  "nteract": {
   "version": "0.12.3"
  }
 },
 "nbformat": 4,
 "nbformat_minor": 2
}
