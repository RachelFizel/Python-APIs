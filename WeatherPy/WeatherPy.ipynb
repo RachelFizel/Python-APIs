{
 "cells": [
  {
   "cell_type": "markdown",
   "metadata": {},
   "source": [
    "# WeatherPy\n",
    "----\n",
    "\n",
    "#### Note\n",
    "* Instructions have been included for each segment. You do not have to follow them exactly, but they are included to help you think through the steps."
   ]
  },
  {
   "cell_type": "code",
   "execution_count": 1,
   "metadata": {
    "scrolled": true
   },
   "outputs": [],
   "source": [
    "# Dependencies and Setup\n",
    "import matplotlib.pyplot as plt\n",
    "import pandas as pd\n",
    "import numpy as np\n",
    "import requests\n",
    "import time\n",
    "from scipy.stats import linregress\n",
    "\n",
    "# Import API key\n",
    "from api_keys import weather_api_key\n",
    "\n",
    "# Incorporated citipy to determine city based on latitude and longitude\n",
    "from citipy import citipy\n",
    "\n",
    "# Output File (CSV)\n",
    "output_data_file = \"output_data/cities.csv\"\n",
    "\n",
    "# Range of latitudes and longitudes\n",
    "lat_range = (-90, 90)\n",
    "lng_range = (-180, 180)"
   ]
  },
  {
   "cell_type": "code",
   "execution_count": 2,
   "metadata": {},
   "outputs": [],
   "source": [
    "# Save config information\n",
    "url = \"http://api.openweathermap.org/data/2.5/weather?\"\n",
    "\n",
    "city_name = []\n",
    "city_number = []\n",
    "latitude = []\n",
    "temperature = []\n",
    "humidity = []\n",
    "cloudiness = []\n",
    "wind_speed = []\n",
    "\n"
   ]
  },
  {
   "cell_type": "markdown",
   "metadata": {},
   "source": [
    "## Generate Cities List"
   ]
  },
  {
   "cell_type": "code",
   "execution_count": 6,
   "metadata": {},
   "outputs": [
    {
     "data": {
      "text/plain": [
       "3"
      ]
     },
     "execution_count": 6,
     "metadata": {},
     "output_type": "execute_result"
    }
   ],
   "source": [
    "# List for holding lat_lngs and cities\n",
    "lat_lngs = []\n",
    "cities = []\n",
    "\n",
    "##? how did it know to get 612 cities when the commented out code is in use?\n",
    "\n",
    "# Create a set of random lat and lng combinations\n",
    "###lats = np.random.uniform(lat_range[0], lat_range[1], size=1500)\n",
    "###lngs = np.random.uniform(lng_range[0], lng_range[1], size=1500)\n",
    "###lat_lngs = zip(lats, lngs)\n",
    "\n",
    "# Identify nearest city for each lat, lng combination\n",
    "###for lat_lng in lat_lngs:\n",
    "    ###city = citipy.nearest_city(lat_lng[0], lat_lng[1]).city_name\n",
    "#below is so I do not go over the rate limits\n",
    "cities = ['Kovūr','Mar del Plata','Barrow']\n",
    "    # If the city is unique, then add it to a our cities list\n",
    "    ###if city not in cities:\n",
    "    ###    cities.append(city)\n",
    "\n",
    "\n",
    "# Print the city count to confirm sufficient count\n",
    "len(cities)\n",
    "\n"
   ]
  },
  {
   "cell_type": "markdown",
   "metadata": {},
   "source": [
    "### Perform API Calls\n",
    "* Perform a weather check on each city using a series of successive API calls.\n",
    "* Include a print log of each city as it'sbeing processed (with the city number and city name).\n"
   ]
  },
  {
   "cell_type": "code",
   "execution_count": 7,
   "metadata": {},
   "outputs": [
    {
     "name": "stdout",
     "output_type": "stream",
     "text": [
      "http://api.openweathermap.org/data/2.5/weather?appid=a9cd3775da94217c65921621a995f7d6&q=Kovūr\n",
      "{'coord': {'lon': 79.9833, 'lat': 14.4833}, 'weather': [{'id': 802, 'main': 'Clouds', 'description': 'scattered clouds', 'icon': '03n'}], 'base': 'stations', 'main': {'temp': 293.17, 'feels_like': 293.33, 'temp_min': 293.17, 'temp_max': 293.17, 'pressure': 1013, 'humidity': 73, 'sea_level': 1013, 'grnd_level': 1011}, 'visibility': 10000, 'wind': {'speed': 2.09, 'deg': 207}, 'clouds': {'all': 39}, 'dt': 1612897271, 'sys': {'country': 'IN', 'sunrise': 1612919159, 'sunset': 1612960965}, 'timezone': 19800, 'id': 1265888, 'name': 'Kovūr', 'cod': 200}\n",
      "http://api.openweathermap.org/data/2.5/weather?appid=a9cd3775da94217c65921621a995f7d6&q=Mar del Plata\n",
      "{'coord': {'lon': -57.5575, 'lat': -38.0023}, 'weather': [{'id': 802, 'main': 'Clouds', 'description': 'scattered clouds', 'icon': '03d'}], 'base': 'stations', 'main': {'temp': 293.32, 'feels_like': 288.89, 'temp_min': 292.59, 'temp_max': 294.15, 'pressure': 1024, 'humidity': 64}, 'visibility': 10000, 'wind': {'speed': 7.72, 'deg': 120}, 'clouds': {'all': 40}, 'dt': 1612897271, 'sys': {'type': 1, 'id': 8305, 'country': 'AR', 'sunrise': 1612861994, 'sunset': 1612911347}, 'timezone': -10800, 'id': 3430863, 'name': 'Mar del Plata', 'cod': 200}\n",
      "http://api.openweathermap.org/data/2.5/weather?appid=a9cd3775da94217c65921621a995f7d6&q=Barrow\n",
      "{'coord': {'lon': -156.7887, 'lat': 71.2906}, 'weather': [{'id': 800, 'main': 'Clear', 'description': 'clear sky', 'icon': '01n'}], 'base': 'stations', 'main': {'temp': 238.15, 'feels_like': 229.92, 'temp_min': 238.15, 'temp_max': 238.15, 'pressure': 1059, 'humidity': 85}, 'visibility': 10000, 'wind': {'speed': 6.17, 'deg': 60}, 'clouds': {'all': 1}, 'dt': 1612897202, 'sys': {'type': 1, 'id': 7649, 'country': 'US', 'sunrise': 1612899842, 'sunset': 1612921132}, 'timezone': -32400, 'id': 5880054, 'name': 'Barrow', 'cod': 200}\n"
     ]
    }
   ],
   "source": [
    "for city in cities:\n",
    "    # Build query URL\n",
    "    query_url = url + \"appid=\" + weather_api_key + \"&q=\" + city\n",
    "    print (query_url)\n",
    "\n",
    "    #get data\n",
    "    weather_response = requests.get(query_url)\n",
    "    weather_json = weather_response.json()\n",
    "    print (weather_json)\n",
    "    city_number.append(weather_json['id'])\n",
    "    city_name.append(weather_json['name'])\n",
    "    latitude.append(weather_json['coord']['lon'])\n",
    "    temperature.append(weather_json['main']['temp'])\n",
    "    humidity.append(weather_json['main']['humidity'])\n",
    "    cloudiness.append(weather_json['clouds']['all'])\n",
    "    wind_speed.append(weather_json['wind']['speed'])\n",
    "\n",
    "\n",
    "\n",
    "\n",
    "\n"
   ]
  },
  {
   "cell_type": "code",
   "execution_count": 8,
   "metadata": {},
   "outputs": [
    {
     "name": "stdout",
     "output_type": "stream",
     "text": [
      "['Kovūr', 'Mar del Plata', 'Barrow'] [1265888, 3430863, 5880054] [79.9833, -57.5575, -156.7887] [293.17, 293.32, 238.15] [73, 64, 85] [39, 40, 1] [2.09, 7.72, 6.17]\n"
     ]
    }
   ],
   "source": [
    "print(city_name, city_number, latitude, temperature, humidity, cloudiness, wind_speed)"
   ]
  },
  {
   "cell_type": "code",
   "execution_count": null,
   "metadata": {
    "scrolled": true
   },
   "outputs": [],
   "source": []
  },
  {
   "cell_type": "markdown",
   "metadata": {},
   "source": [
    "### Convert Raw Data to DataFrame\n",
    "* Export the city data into a .csv.\n",
    "* Display the DataFrame"
   ]
  },
  {
   "cell_type": "code",
   "execution_count": 19,
   "metadata": {},
   "outputs": [],
   "source": [
    "city_results = pd.DataFrame({\"City Name\" : city_name,\n",
    "                              \"City Number\": city_number,\n",
    "                              \"Latitude\" : latitude,\n",
    "                              \"Temperature\" : temperature,\n",
    "                              \"Humidity\" : humidity,\n",
    "                              \"Cloudiness\" : cloudiness,\n",
    "                              \"Wind Speed\" : wind_speed})\n",
    "\n",
    "city_results.to_csv(\"City Results\", encoding = \"utf-8\", index = False)"
   ]
  },
  {
   "cell_type": "code",
   "execution_count": 20,
   "metadata": {},
   "outputs": [
    {
     "data": {
      "text/html": [
       "<div>\n",
       "<style scoped>\n",
       "    .dataframe tbody tr th:only-of-type {\n",
       "        vertical-align: middle;\n",
       "    }\n",
       "\n",
       "    .dataframe tbody tr th {\n",
       "        vertical-align: top;\n",
       "    }\n",
       "\n",
       "    .dataframe thead th {\n",
       "        text-align: right;\n",
       "    }\n",
       "</style>\n",
       "<table border=\"1\" class=\"dataframe\">\n",
       "  <thead>\n",
       "    <tr style=\"text-align: right;\">\n",
       "      <th></th>\n",
       "      <th>City Name</th>\n",
       "      <th>City Number</th>\n",
       "      <th>Latitude</th>\n",
       "      <th>Temperature</th>\n",
       "      <th>Humidity</th>\n",
       "      <th>Cloudiness</th>\n",
       "      <th>Wind Speed</th>\n",
       "    </tr>\n",
       "  </thead>\n",
       "  <tbody>\n",
       "    <tr>\n",
       "      <th>0</th>\n",
       "      <td>Kovūr</td>\n",
       "      <td>1265888</td>\n",
       "      <td>79.9833</td>\n",
       "      <td>293.17</td>\n",
       "      <td>73</td>\n",
       "      <td>39</td>\n",
       "      <td>2.09</td>\n",
       "    </tr>\n",
       "    <tr>\n",
       "      <th>1</th>\n",
       "      <td>Mar del Plata</td>\n",
       "      <td>3430863</td>\n",
       "      <td>-57.5575</td>\n",
       "      <td>293.32</td>\n",
       "      <td>64</td>\n",
       "      <td>40</td>\n",
       "      <td>7.72</td>\n",
       "    </tr>\n",
       "    <tr>\n",
       "      <th>2</th>\n",
       "      <td>Barrow</td>\n",
       "      <td>5880054</td>\n",
       "      <td>-156.7887</td>\n",
       "      <td>238.15</td>\n",
       "      <td>85</td>\n",
       "      <td>1</td>\n",
       "      <td>6.17</td>\n",
       "    </tr>\n",
       "  </tbody>\n",
       "</table>\n",
       "</div>"
      ],
      "text/plain": [
       "       City Name  City Number  Latitude  Temperature  Humidity  Cloudiness  \\\n",
       "0          Kovūr      1265888   79.9833       293.17        73          39   \n",
       "1  Mar del Plata      3430863  -57.5575       293.32        64          40   \n",
       "2         Barrow      5880054 -156.7887       238.15        85           1   \n",
       "\n",
       "   Wind Speed  \n",
       "0        2.09  \n",
       "1        7.72  \n",
       "2        6.17  "
      ]
     },
     "execution_count": 20,
     "metadata": {},
     "output_type": "execute_result"
    }
   ],
   "source": [
    "city_results"
   ]
  },
  {
   "cell_type": "markdown",
   "metadata": {},
   "source": [
    "## Inspect the data and remove the cities where the humidity > 100%.\n",
    "----\n",
    "Skip this step if there are no cities that have humidity > 100%. "
   ]
  },
  {
   "cell_type": "code",
   "execution_count": null,
   "metadata": {},
   "outputs": [],
   "source": []
  },
  {
   "cell_type": "code",
   "execution_count": 23,
   "metadata": {},
   "outputs": [
    {
     "name": "stdout",
     "output_type": "stream",
     "text": [
      "0     Kovūr\n",
      "2    Barrow\n",
      "Name: City Name, dtype: object\n"
     ]
    }
   ],
   "source": [
    "#how to get the indices?  .iloc\n",
    "#  Get the indices of cities that have humidity over 100%.\n",
    "humid_cities = []\n",
    "####update to 100%\n",
    "#get a list of cities that have humidity < 100\n",
    "humid_cities = city_results.loc[city_results[\"Humidity\"] > 68, \"City Name\"]\n",
    "\n",
    "print(humid_cities)\n"
   ]
  },
  {
   "cell_type": "code",
   "execution_count": 30,
   "metadata": {},
   "outputs": [
    {
     "data": {
      "text/html": [
       "<div>\n",
       "<style scoped>\n",
       "    .dataframe tbody tr th:only-of-type {\n",
       "        vertical-align: middle;\n",
       "    }\n",
       "\n",
       "    .dataframe tbody tr th {\n",
       "        vertical-align: top;\n",
       "    }\n",
       "\n",
       "    .dataframe thead th {\n",
       "        text-align: right;\n",
       "    }\n",
       "</style>\n",
       "<table border=\"1\" class=\"dataframe\">\n",
       "  <thead>\n",
       "    <tr style=\"text-align: right;\">\n",
       "      <th></th>\n",
       "      <th>City Name</th>\n",
       "      <th>City Number</th>\n",
       "      <th>Latitude</th>\n",
       "      <th>Temperature</th>\n",
       "      <th>Humidity</th>\n",
       "      <th>Cloudiness</th>\n",
       "      <th>Wind Speed</th>\n",
       "    </tr>\n",
       "  </thead>\n",
       "  <tbody>\n",
       "    <tr>\n",
       "      <th>0</th>\n",
       "      <td>Kovūr</td>\n",
       "      <td>1265888</td>\n",
       "      <td>79.9833</td>\n",
       "      <td>293.17</td>\n",
       "      <td>73</td>\n",
       "      <td>39</td>\n",
       "      <td>2.09</td>\n",
       "    </tr>\n",
       "    <tr>\n",
       "      <th>1</th>\n",
       "      <td>Barrow</td>\n",
       "      <td>5880054</td>\n",
       "      <td>-156.7887</td>\n",
       "      <td>238.15</td>\n",
       "      <td>85</td>\n",
       "      <td>1</td>\n",
       "      <td>6.17</td>\n",
       "    </tr>\n",
       "  </tbody>\n",
       "</table>\n",
       "</div>"
      ],
      "text/plain": [
       "  City Name  City Number  Latitude  Temperature  Humidity  Cloudiness  \\\n",
       "0     Kovūr      1265888   79.9833       293.17        73          39   \n",
       "1    Barrow      5880054 -156.7887       238.15        85           1   \n",
       "\n",
       "   Wind Speed  \n",
       "0        2.09  \n",
       "1        6.17  "
      ]
     },
     "execution_count": 30,
     "metadata": {},
     "output_type": "execute_result"
    }
   ],
   "source": [
    "# Make a new DataFrame equal to the city data to drop all humidity outliers by index.\n",
    "#?  next line - \n",
    "# Passing \"inplace=False\" will make a copy of the city_data DataFrame, which we call \"clean_city_data\".\n",
    "\n",
    "clean_city_data = pd.merge(humid_cities, city_results, how = \"left\", on = [\"City Name\"])\n",
    "#?got error merge() got unexpected argument 'inplace'\n",
    "#  make a copy of ...clean_city_data = city_results\n",
    "#clean_city_data = pd.merge(humid_cities, city_results, how = \"left\", on = [\"City Name\"], inplace = False)\n",
    "clean_city_data"
   ]
  },
  {
   "cell_type": "code",
   "execution_count": null,
   "metadata": {},
   "outputs": [],
   "source": [
    "\n"
   ]
  },
  {
   "cell_type": "markdown",
   "metadata": {},
   "source": [
    "## Plotting the Data\n",
    "* Use proper labeling of the plots using plot titles (including date of analysis) and axes labels.\n",
    "* Save the plotted figures as .pngs."
   ]
  },
  {
   "cell_type": "markdown",
   "metadata": {},
   "source": [
    "## Latitude vs. Temperature Plot"
   ]
  },
  {
   "cell_type": "code",
   "execution_count": 31,
   "metadata": {
    "scrolled": true
   },
   "outputs": [
    {
     "data": {
      "text/plain": [
       "<function matplotlib.pyplot.show(*args, **kw)>"
      ]
     },
     "execution_count": 31,
     "metadata": {},
     "output_type": "execute_result"
    },
    {
     "data": {
      "image/png": "[encoded data removed]",
      "text/plain": [
       "<Figure size 432x288 with 1 Axes>"
      ]
     },
     "metadata": {
      "needs_background": "light"
     },
     "output_type": "display_data"
    }
   ],
   "source": [
    "Latitude = clean_city_data[\"Latitude\"]\n",
    "Temperature = clean_city_data[\"Temperature\"]\n",
    "\n",
    "plt.scatter(Latitude, Temperature, marker=\"o\", facecolors=\"red\", edgecolors=\"black\")\n",
    "            #s=x_axis, alpha=0.75)\n",
    "    \n",
    "plt.show"
   ]
  },
  {
   "cell_type": "markdown",
   "metadata": {},
   "source": [
    "## Latitude vs. Humidity Plot"
   ]
  },
  {
   "cell_type": "code",
   "execution_count": 32,
   "metadata": {},
   "outputs": [
    {
     "data": {
      "text/plain": [
       "<function matplotlib.pyplot.show(*args, **kw)>"
      ]
     },
     "execution_count": 32,
     "metadata": {},
     "output_type": "execute_result"
    },
    {
     "data": {
      "image/png": "[encoded data removed]",
      "text/plain": [
       "<Figure size 432x288 with 1 Axes>"
      ]
     },
     "metadata": {
      "needs_background": "light"
     },
     "output_type": "display_data"
    }
   ],
   "source": [
    "Latitude = clean_city_data[\"Latitude\"]\n",
    "Humidity = clean_city_data[\"Humidity\"]\n",
    "##?how do I decide which goes first - latitued or humidity \n",
    "plt.scatter(Latitude, Humidity, marker=\"o\", facecolors=\"red\", edgecolors=\"black\")\n",
    "            #s=x_axis, alpha=0.75)\n",
    "    \n",
    "plt.show"
   ]
  },
  {
   "cell_type": "markdown",
   "metadata": {},
   "source": [
    "## Latitude vs. Cloudiness Plot"
   ]
  },
  {
   "cell_type": "code",
   "execution_count": null,
   "metadata": {},
   "outputs": [],
   "source": []
  },
  {
   "cell_type": "markdown",
   "metadata": {},
   "source": [
    "## Latitude vs. Wind Speed Plot"
   ]
  },
  {
   "cell_type": "code",
   "execution_count": null,
   "metadata": {},
   "outputs": [],
   "source": []
  },
  {
   "cell_type": "markdown",
   "metadata": {},
   "source": [
    "## Linear Regression"
   ]
  },
  {
   "cell_type": "code",
   "execution_count": 33,
   "metadata": {},
   "outputs": [
    {
     "ename": "NameError",
     "evalue": "name 'st' is not defined",
     "output_type": "error",
     "traceback": [
      "\u001b[1;31m---------------------------------------------------------------------------\u001b[0m",
      "\u001b[1;31mNameError\u001b[0m                                 Traceback (most recent call last)",
      "\u001b[1;32m<ipython-input-33-bbf85b4f58f5>\u001b[0m in \u001b[0;36m<module>\u001b[1;34m\u001b[0m\n\u001b[1;32m----> 1\u001b[1;33m \u001b[0mw_slope\u001b[0m\u001b[1;33m,\u001b[0m \u001b[0mw_intercept\u001b[0m\u001b[1;33m,\u001b[0m \u001b[0mw_cap_r\u001b[0m\u001b[1;33m,\u001b[0m \u001b[0mw_cap_p\u001b[0m\u001b[1;33m,\u001b[0m \u001b[0mw_cap_std_err\u001b[0m \u001b[1;33m=\u001b[0m \u001b[0mst\u001b[0m\u001b[1;33m.\u001b[0m\u001b[0mlinregress\u001b[0m\u001b[1;33m(\u001b[0m\u001b[0mLatitude\u001b[0m\u001b[1;33m,\u001b[0m \u001b[0mHumidity\u001b[0m\u001b[1;33m)\u001b[0m\u001b[1;33m\u001b[0m\u001b[1;33m\u001b[0m\u001b[0m\n\u001b[0m",
      "\u001b[1;31mNameError\u001b[0m: name 'st' is not defined"
     ]
    }
   ],
   "source": [
    "w_slope, w_intercept, w_cap_r, w_cap_p, w_cap_std_err = st.linregress(Latitude, Humidity)\n"
   ]
  },
  {
   "cell_type": "markdown",
   "metadata": {},
   "source": [
    "####  Northern Hemisphere - Max Temp vs. Latitude Linear Regression"
   ]
  },
  {
   "cell_type": "code",
   "execution_count": null,
   "metadata": {},
   "outputs": [],
   "source": []
  },
  {
   "cell_type": "markdown",
   "metadata": {},
   "source": [
    "####  Southern Hemisphere - Max Temp vs. Latitude Linear Regression"
   ]
  },
  {
   "cell_type": "code",
   "execution_count": null,
   "metadata": {},
   "outputs": [],
   "source": []
  },
  {
   "cell_type": "markdown",
   "metadata": {},
   "source": [
    "####  Northern Hemisphere - Humidity (%) vs. Latitude Linear Regression"
   ]
  },
  {
   "cell_type": "code",
   "execution_count": null,
   "metadata": {},
   "outputs": [],
   "source": []
  },
  {
   "cell_type": "markdown",
   "metadata": {},
   "source": [
    "####  Southern Hemisphere - Humidity (%) vs. Latitude Linear Regression"
   ]
  },
  {
   "cell_type": "code",
   "execution_count": null,
   "metadata": {},
   "outputs": [],
   "source": []
  },
  {
   "cell_type": "markdown",
   "metadata": {},
   "source": [
    "####  Northern Hemisphere - Cloudiness (%) vs. Latitude Linear Regression"
   ]
  },
  {
   "cell_type": "code",
   "execution_count": null,
   "metadata": {},
   "outputs": [],
   "source": []
  },
  {
   "cell_type": "markdown",
   "metadata": {},
   "source": [
    "####  Southern Hemisphere - Cloudiness (%) vs. Latitude Linear Regression"
   ]
  },
  {
   "cell_type": "code",
   "execution_count": null,
   "metadata": {},
   "outputs": [],
   "source": []
  },
  {
   "cell_type": "markdown",
   "metadata": {},
   "source": [
    "####  Northern Hemisphere - Wind Speed (mph) vs. Latitude Linear Regression"
   ]
  },
  {
   "cell_type": "code",
   "execution_count": null,
   "metadata": {},
   "outputs": [],
   "source": []
  },
  {
   "cell_type": "markdown",
   "metadata": {},
   "source": [
    "####  Southern Hemisphere - Wind Speed (mph) vs. Latitude Linear Regression"
   ]
  },
  {
   "cell_type": "code",
   "execution_count": null,
   "metadata": {},
   "outputs": [],
   "source": []
  },
  {
   "cell_type": "code",
   "execution_count": null,
   "metadata": {},
   "outputs": [],
   "source": []
  }
 ],
 "metadata": {
  "anaconda-cloud": {},
  "kernel_info": {
   "name": "python3"
  },
  "kernelspec": {
   "display_name": "Python 3",
   "language": "python",
   "name": "python3"
  },
  "language_info": {
   "codemirror_mode": {
    "name": "ipython",
    "version": 3
   },
   "file_extension": ".py",
   "mimetype": "text/x-python",
   "name": "python",
   "nbconvert_exporter": "python",
   "pygments_lexer": "ipython3",
   "version": "3.6.10"
  },
  "latex_envs": {
   "LaTeX_envs_menu_present": true,
   "autoclose": false,
   "autocomplete": true,
   "bibliofile": "biblio.bib",
   "cite_by": "apalike",
   "current_citInitial": 1,
   "eqLabelWithNumbers": true,
   "eqNumInitial": 1,
   "hotkeys": {
    "equation": "Ctrl-E",
    "itemize": "Ctrl-I"
   },
   "labels_anchors": false,
   "latex_user_defs": false,
   "report_style_numbering": false,
   "user_envs_cfg": false
  },
  "nteract": {
   "version": "0.12.3"
  }
 },
 "nbformat": 4,
 "nbformat_minor": 2
}
