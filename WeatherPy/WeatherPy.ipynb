{
 "cells": [
  {
   "cell_type": "markdown",
   "metadata": {},
   "source": [
    "# WeatherPy\n",
    "----\n",
    "\n",
    "#### Note\n",
    "* Instructions have been included for each segment. You do not have to follow them exactly, but they are included to help you think through the steps."
   ]
  },
  {
   "cell_type": "code",
   "execution_count": 1,
   "metadata": {
    "scrolled": true
   },
   "outputs": [],
   "source": [
    "# Dependencies and Setup\n",
    "import matplotlib.pyplot as plt\n",
    "import pandas as pd\n",
    "import numpy as np\n",
    "import requests\n",
    "import time\n",
    "from scipy.stats import linregress\n",
    "\n",
    "\n",
    "# Import API key\n",
    "from api_keys import weather_api_key\n",
    "\n",
    "# Incorporated citipy to determine city based on latitude and longitude\n",
    "from citipy import citipy\n",
    "\n",
    "# Output File (CSV)\n",
    "output_data_file = \"output_data/cities.csv\"\n",
    "\n",
    "# Range of latitudes and longitudes\n",
    "lat_range = (-90, 90)\n",
    "lng_range = (-180, 180)"
   ]
  },
  {
   "cell_type": "code",
   "execution_count": 2,
   "metadata": {},
   "outputs": [],
   "source": [
    "# Save config information\n",
    "url = \"http://api.openweathermap.org/data/2.5/weather?\"\n",
    "\n",
    "city_name = []\n",
    "city_number = []\n",
    "country_name = []\n",
    "latitude = []\n",
    "longitude = []\n",
    "temperature = []\n",
    "humidity = []\n",
    "cloud_coverage = []\n",
    "wind_speed = []\n",
    "city_datetime = []\n",
    "\n",
    "x = -1"
   ]
  },
  {
   "cell_type": "markdown",
   "metadata": {},
   "source": [
    "## Generate Cities List"
   ]
  },
  {
   "cell_type": "code",
   "execution_count": 3,
   "metadata": {},
   "outputs": [
    {
     "data": {
      "text/plain": [
       "611"
      ]
     },
     "execution_count": 3,
     "metadata": {},
     "output_type": "execute_result"
    }
   ],
   "source": [
    "# List for holding lat_lngs and cities\n",
    "lat_lngs = []\n",
    "cities = []\n",
    "\n",
    "\n",
    "\n",
    "# Create a set of random lat and lng combinations\n",
    "lats = np.random.uniform(lat_range[0], lat_range[1], size=1500)\n",
    "lngs = np.random.uniform(lng_range[0], lng_range[1], size=1500)\n",
    "lat_lngs = zip(lats, lngs)\n",
    "\n",
    "# Identify nearest city for each lat, lng combination\n",
    "for lat_lng in lat_lngs:\n",
    "    city = citipy.nearest_city(lat_lng[0], lat_lng[1]).city_name\n",
    "    # If the city is unique, then add it to a our cities list\n",
    "    if city not in cities:\n",
    "        cities.append(city)\n",
    "\n",
    "\n",
    "# Print the city count to confirm sufficient count\n",
    "len(cities)\n",
    "\n"
   ]
  },
  {
   "cell_type": "markdown",
   "metadata": {},
   "source": [
    "### Perform API Calls\n",
    "* Perform a weather check on each city using a series of successive API calls.\n",
    "* Include a print log of each city as it'sbeing processed (with the city number and city name).\n"
   ]
  },
  {
   "cell_type": "code",
   "execution_count": 4,
   "metadata": {},
   "outputs": [
    {
     "name": "stdout",
     "output_type": "stream",
     "text": [
      "City Number: 4030556 City Name: Rikitea\n",
      "City Number: 1502073 City Name: Krasnosel'kup\n",
      "City Number: 5563839 City Name: Fortuna\n",
      "City Number: 1504489 City Name: Karasuk\n",
      "City Number: 2173323 City Name: Bundaberg\n",
      "City Number: 3448903 City Name: São João da Barra\n",
      "City Number: 2635881 City Name: Thurso\n",
      "City Number: 2074865 City Name: Carnarvon\n",
      "City Number: 3579925 City Name: St. George's\n",
      "City Number: 3423146 City Name: Ilulissat\n",
      "city not found\n",
      "City Number: 2025241 City Name: Churapcha\n",
      "City Number: 935215 City Name: Saint-Philippe\n",
      "City Number: 3659578 City Name: Cayambe\n",
      "City Number: 6185377 City Name: Yellowknife\n",
      "City Number: 5282297 City Name: Bethel\n",
      "City Number: 2121385 City Name: Severo-Kuril'sk\n",
      "City Number: 6201424 City Name: Mataura\n",
      "City Number: 4035715 City Name: Avarua\n",
      "City Number: 2656847 City Name: Atherton\n",
      "City Number: 3421719 City Name: Narsaq\n",
      "City Number: 1529376 City Name: Korla\n",
      "City Number: 2294915 City Name: Takoradze\n",
      "City Number: 4020109 City Name: Atuona\n",
      "City Number: 3424607 City Name: Tasiilaq\n",
      "City Number: 1810979 City Name: Fuling\n",
      "City Number: 2112802 City Name: Hasaki\n",
      "City Number: 2075265 City Name: Busselton\n",
      "City Number: 2163355 City Name: Hobart\n",
      "City Number: 3576994 City Name: Cockburn Town\n",
      "City Number: 3366880 City Name: Hermanus\n",
      "City Number: 3991347 City Name: Puerto Peñasco\n",
      "City Number: 2015306 City Name: Tiksi\n",
      "City Number: 1495626 City Name: Pangody\n",
      "City Number: 3420846 City Name: Qaqortoq\n",
      "City Number: 3833367 City Name: Ushuaia\n",
      "City Number: 5364271 City Name: Laguna\n",
      "City Number: 3369157 City Name: Cape Town\n",
      "City Number: 2068655 City Name: Katherine\n",
      "City Number: 1006984 City Name: East London\n",
      "City Number: 3389822 City Name: Salinópolis\n",
      "City Number: 3372707 City Name: Ribeira Grande\n",
      "City Number: 3874787 City Name: Punta Arenas\n",
      "City Number: 3416888 City Name: Grindavik\n",
      "City Number: 2654970 City Name: Brae\n",
      "city not found\n",
      "City Number: 3652764 City Name: Puerto Ayora\n",
      "City Number: 4031574 City Name: Provideniya\n",
      "City Number: 5067114 City Name: Douglas\n",
      "City Number: 6170031 City Name: Tuktoyaktuk\n"
     ]
    }
   ],
   "source": [
    "for city in cities[:50]:\n",
    "    # Build query URL\n",
    "    query_url = url + \"appid=\" + weather_api_key + \"&q=\" + city + \"&units=imperial\"\n",
    "    #print(query_url)\n",
    "    \n",
    "    time.sleep(1)  #sleep 1 second between calls\n",
    "    \n",
    "    try:\n",
    "        \n",
    "        #get data\n",
    "        weather_response = requests.get(query_url)\n",
    "        weather_json = weather_response.json()\n",
    "        city_number.append(weather_json['id'])\n",
    "        city_name.append(weather_json['name'])\n",
    "        country_name.append(weather_json['sys']['country'])\n",
    "        latitude.append(weather_json['coord']['lat'])\n",
    "        longitude.append(weather_json['coord']['lon'])\n",
    "        temperature.append(weather_json['main']['temp_max'])\n",
    "        humidity.append(weather_json['main']['humidity'])\n",
    "        cloud_coverage.append(weather_json['clouds']['all'])\n",
    "        wind_speed.append(weather_json['wind']['speed'])\n",
    "        city_datetime.append(weather_json['dt'])\n",
    "        x = x + 1\n",
    "        print(f'City Number: {city_number[x]} City Name: {city_name[x]}')\n",
    "\n",
    "    except:\n",
    "        \n",
    "        print(\"city not found\")\n",
    "\n",
    "\n",
    "\n"
   ]
  },
  {
   "cell_type": "code",
   "execution_count": 5,
   "metadata": {},
   "outputs": [
    {
     "name": "stdout",
     "output_type": "stream",
     "text": [
      "['Rikitea', \"Krasnosel'kup\", 'Fortuna', 'Karasuk', 'Bundaberg', 'São João da Barra', 'Thurso', 'Carnarvon', \"St. George's\", 'Ilulissat', 'Churapcha', 'Saint-Philippe', 'Cayambe', 'Yellowknife', 'Bethel', \"Severo-Kuril'sk\", 'Mataura', 'Avarua', 'Atherton', 'Narsaq', 'Korla', 'Takoradze', 'Atuona', 'Tasiilaq', 'Fuling', 'Hasaki', 'Busselton', 'Hobart', 'Cockburn Town', 'Hermanus', 'Puerto Peñasco', 'Tiksi', 'Pangody', 'Qaqortoq', 'Ushuaia', 'Laguna', 'Cape Town', 'Katherine', 'East London', 'Salinópolis', 'Ribeira Grande', 'Punta Arenas', 'Grindavik', 'Brae', 'Puerto Ayora', 'Provideniya', 'Douglas', 'Tuktoyaktuk'] [4030556, 1502073, 5563839, 1504489, 2173323, 3448903, 2635881, 2074865, 3579925, 3423146, 2025241, 935215, 3659578, 6185377, 5282297, 2121385, 6201424, 4035715, 2656847, 3421719, 1529376, 2294915, 4020109, 3424607, 1810979, 2112802, 2075265, 2163355, 3576994, 3366880, 3991347, 2015306, 1495626, 3420846, 3833367, 5364271, 3369157, 2068655, 1006984, 3389822, 3372707, 3874787, 3416888, 2654970, 3652764, 4031574, 5067114, 6170031] ['PF', 'RU', 'US', 'RU', 'AU', 'BR', 'GB', 'AU', 'GD', 'GL', 'RU', 'RE', 'EC', 'CA', 'US', 'RU', 'NZ', 'CK', 'GB', 'GL', 'CN', 'GH', 'PF', 'GL', 'CN', 'JP', 'AU', 'AU', 'TC', 'ZA', 'MX', 'RU', 'RU', 'GL', 'AR', 'US', 'ZA', 'AU', 'ZA', 'BR', 'PT', 'CL', 'IS', 'GB', 'EC', 'RU', 'US', 'CA'] [-23.1203, 65.7, 40.5982, 53.7377, -24.85, -21.6403, 58.5927, -24.8667, 12.0564, 69.2167, 62.0025, -21.3585, 0.05, 62.456, 41.3712, 50.6789, -46.1927, -21.2078, 53.5237, 60.9167, 41.7597, 4.8845, -9.8, 65.6145, 29.7022, 35.7333, -33.65, -42.8794, 21.4612, -34.4187, 31.3167, 71.6872, 65.85, 60.7167, -54.8, 38.421, -33.9258, -14.4667, -33.0153, -0.6136, 38.5167, -53.15, 63.8424, 60.3964, -0.7393, 64.3833, 41.3, 69.4541] [-134.9692, 82.4667, -124.1573, 78.0403, 152.35, -41.0511, -3.5259, 113.6333, -61.7485, -51.1, 132.4325, 55.7679, -78.1333, -114.3525, -73.414, 156.125, 168.8643, -159.775, -2.4935, -46.05, 86.1469, -1.7554, -139.0333, -37.6368, 107.3919, 140.8333, 115.3333, 147.3294, -71.1419, 19.2345, -113.5333, 128.8694, 74.4859, -46.0333, -68.3, -121.4238, 18.4232, 132.2667, 27.9116, -47.3561, -28.7, -70.9167, -22.4338, -1.353, -90.3518, -173.3, -96.167, -133.0374] [79.48, -33.18, 55, 7.47, 77, 80.6, 35.6, 77, 84.2, 17.6, -12.15, 80.6, 69.8, -6, 28.4, 24.55, 62.01, 84.2, 34, 46.4, 35.76, 81.07, 79.07, 32.54, 51.6, 46.4, 60.01, 54, 80.6, 71.01, 66.2, -11.43, -34.08, 46.4, 42.8, 66.99, 71.01, 77, 77.65, 79.93, 57.2, 53.6, 37.4, 39.2, 84.2, 9.46, 7, -9.4] [76, 82, 76, 95, 78, 74, 60, 100, 65, 79, 89, 69, 56, 84, 31, 93, 69, 70, 48, 29, 75, 83, 79, 94, 82, 87, 83, 87, 69, 84, 55, 90, 83, 29, 87, 34, 88, 94, 87, 85, 72, 47, 87, 60, 70, 91, 51, 77] [42, 45, 75, 100, 40, 0, 100, 39, 75, 75, 100, 20, 40, 20, 90, 89, 100, 13, 100, 75, 100, 0, 6, 100, 46, 75, 0, 20, 40, 0, 90, 100, 6, 75, 75, 1, 20, 90, 95, 99, 75, 0, 90, 90, 40, 100, 40, 75] [11.99, 7.65, 8.05, 10.45, 9.22, 18.41, 31.07, 10.36, 24.16, 16.11, 6.89, 19.57, 19.57, 17.27, 4.61, 8.72, 3, 4.61, 11.99, 25.32, 9.37, 10.78, 15.88, 32.99, 1.1, 2.3, 1.01, 4.61, 16.11, 6.76, 12.66, 7.72, 3.42, 25.32, 5.93, 10.36, 4.61, 2.3, 7.4, 12.77, 33.38, 25.32, 26.46, 32.21, 16.11, 18.63, 8.05, 5.75] [1613249059, 1613249061, 1613249062, 1613249063, 1613249064, 1613249003, 1613249066, 1613249067, 1613249068, 1613249069, 1613249072, 1613249073, 1613249074, 1613248851, 1613248978, 1613249077, 1613249078, 1613249079, 1613249081, 1613249082, 1613249083, 1613249084, 1613249085, 1613249086, 1613249087, 1613249088, 1613249089, 1613248996, 1613249092, 1613248989, 1613249094, 1613249095, 1613249096, 1613249097, 1613249098, 1613249100, 1613249081, 1613249007, 1613249104, 1613248993, 1613249106, 1613248823, 1613249108, 1613249109, 1613249112, 1613249113, 1613248885, 1613249115]\n"
     ]
    }
   ],
   "source": [
    "print(city_name, city_number, country_name, latitude, longitude, temperature, humidity, cloud_coverage, wind_speed, city_datetime)"
   ]
  },
  {
   "cell_type": "code",
   "execution_count": null,
   "metadata": {
    "scrolled": true
   },
   "outputs": [],
   "source": []
  },
  {
   "cell_type": "markdown",
   "metadata": {},
   "source": [
    "### Convert Raw Data to DataFrame\n",
    "* Export the city data into a .csv.\n",
    "* Display the DataFrame"
   ]
  },
  {
   "cell_type": "code",
   "execution_count": 6,
   "metadata": {},
   "outputs": [],
   "source": [
    "city_results = pd.DataFrame({\"City Name\" : city_name,\n",
    "                              \"City Number\": city_number,\n",
    "                              \"City Country\": country_name,\n",
    "                              \"Latitude\" : latitude,\n",
    "                              \"Longitude\" : longitude,\n",
    "                              \"Max Temperature\" : temperature,\n",
    "                              \"Humidity\" : humidity,\n",
    "                              \"Cloud Coverage\" : cloud_coverage,\n",
    "                              \"Wind Speed\" : wind_speed,\n",
    "                              \"City Datetime\" : city_datetime})\n",
    "\n",
    "city_results.to_csv(\"city_results.cvs\", encoding = \"utf-8\", index = False)"
   ]
  },
  {
   "cell_type": "code",
   "execution_count": 7,
   "metadata": {},
   "outputs": [
    {
     "data": {
      "text/html": [
       "<div>\n",
       "<style scoped>\n",
       "    .dataframe tbody tr th:only-of-type {\n",
       "        vertical-align: middle;\n",
       "    }\n",
       "\n",
       "    .dataframe tbody tr th {\n",
       "        vertical-align: top;\n",
       "    }\n",
       "\n",
       "    .dataframe thead th {\n",
       "        text-align: right;\n",
       "    }\n",
       "</style>\n",
       "<table border=\"1\" class=\"dataframe\">\n",
       "  <thead>\n",
       "    <tr style=\"text-align: right;\">\n",
       "      <th></th>\n",
       "      <th>City Name</th>\n",
       "      <th>City Number</th>\n",
       "      <th>City Country</th>\n",
       "      <th>Latitude</th>\n",
       "      <th>Longitude</th>\n",
       "      <th>Max Temperature</th>\n",
       "      <th>Humidity</th>\n",
       "      <th>Cloud Coverage</th>\n",
       "      <th>Wind Speed</th>\n",
       "      <th>City Datetime</th>\n",
       "    </tr>\n",
       "  </thead>\n",
       "  <tbody>\n",
       "    <tr>\n",
       "      <th>0</th>\n",
       "      <td>Rikitea</td>\n",
       "      <td>4030556</td>\n",
       "      <td>PF</td>\n",
       "      <td>-23.1203</td>\n",
       "      <td>-134.9692</td>\n",
       "      <td>79.48</td>\n",
       "      <td>76</td>\n",
       "      <td>42</td>\n",
       "      <td>11.99</td>\n",
       "      <td>1613249059</td>\n",
       "    </tr>\n",
       "    <tr>\n",
       "      <th>1</th>\n",
       "      <td>Krasnosel'kup</td>\n",
       "      <td>1502073</td>\n",
       "      <td>RU</td>\n",
       "      <td>65.7000</td>\n",
       "      <td>82.4667</td>\n",
       "      <td>-33.18</td>\n",
       "      <td>82</td>\n",
       "      <td>45</td>\n",
       "      <td>7.65</td>\n",
       "      <td>1613249061</td>\n",
       "    </tr>\n",
       "    <tr>\n",
       "      <th>2</th>\n",
       "      <td>Fortuna</td>\n",
       "      <td>5563839</td>\n",
       "      <td>US</td>\n",
       "      <td>40.5982</td>\n",
       "      <td>-124.1573</td>\n",
       "      <td>55.00</td>\n",
       "      <td>76</td>\n",
       "      <td>75</td>\n",
       "      <td>8.05</td>\n",
       "      <td>1613249062</td>\n",
       "    </tr>\n",
       "    <tr>\n",
       "      <th>3</th>\n",
       "      <td>Karasuk</td>\n",
       "      <td>1504489</td>\n",
       "      <td>RU</td>\n",
       "      <td>53.7377</td>\n",
       "      <td>78.0403</td>\n",
       "      <td>7.47</td>\n",
       "      <td>95</td>\n",
       "      <td>100</td>\n",
       "      <td>10.45</td>\n",
       "      <td>1613249063</td>\n",
       "    </tr>\n",
       "    <tr>\n",
       "      <th>4</th>\n",
       "      <td>Bundaberg</td>\n",
       "      <td>2173323</td>\n",
       "      <td>AU</td>\n",
       "      <td>-24.8500</td>\n",
       "      <td>152.3500</td>\n",
       "      <td>77.00</td>\n",
       "      <td>78</td>\n",
       "      <td>40</td>\n",
       "      <td>9.22</td>\n",
       "      <td>1613249064</td>\n",
       "    </tr>\n",
       "    <tr>\n",
       "      <th>5</th>\n",
       "      <td>São João da Barra</td>\n",
       "      <td>3448903</td>\n",
       "      <td>BR</td>\n",
       "      <td>-21.6403</td>\n",
       "      <td>-41.0511</td>\n",
       "      <td>80.60</td>\n",
       "      <td>74</td>\n",
       "      <td>0</td>\n",
       "      <td>18.41</td>\n",
       "      <td>1613249003</td>\n",
       "    </tr>\n",
       "    <tr>\n",
       "      <th>6</th>\n",
       "      <td>Thurso</td>\n",
       "      <td>2635881</td>\n",
       "      <td>GB</td>\n",
       "      <td>58.5927</td>\n",
       "      <td>-3.5259</td>\n",
       "      <td>35.60</td>\n",
       "      <td>60</td>\n",
       "      <td>100</td>\n",
       "      <td>31.07</td>\n",
       "      <td>1613249066</td>\n",
       "    </tr>\n",
       "    <tr>\n",
       "      <th>7</th>\n",
       "      <td>Carnarvon</td>\n",
       "      <td>2074865</td>\n",
       "      <td>AU</td>\n",
       "      <td>-24.8667</td>\n",
       "      <td>113.6333</td>\n",
       "      <td>77.00</td>\n",
       "      <td>100</td>\n",
       "      <td>39</td>\n",
       "      <td>10.36</td>\n",
       "      <td>1613249067</td>\n",
       "    </tr>\n",
       "    <tr>\n",
       "      <th>8</th>\n",
       "      <td>St. George's</td>\n",
       "      <td>3579925</td>\n",
       "      <td>GD</td>\n",
       "      <td>12.0564</td>\n",
       "      <td>-61.7485</td>\n",
       "      <td>84.20</td>\n",
       "      <td>65</td>\n",
       "      <td>75</td>\n",
       "      <td>24.16</td>\n",
       "      <td>1613249068</td>\n",
       "    </tr>\n",
       "    <tr>\n",
       "      <th>9</th>\n",
       "      <td>Ilulissat</td>\n",
       "      <td>3423146</td>\n",
       "      <td>GL</td>\n",
       "      <td>69.2167</td>\n",
       "      <td>-51.1000</td>\n",
       "      <td>17.60</td>\n",
       "      <td>79</td>\n",
       "      <td>75</td>\n",
       "      <td>16.11</td>\n",
       "      <td>1613249069</td>\n",
       "    </tr>\n",
       "    <tr>\n",
       "      <th>10</th>\n",
       "      <td>Churapcha</td>\n",
       "      <td>2025241</td>\n",
       "      <td>RU</td>\n",
       "      <td>62.0025</td>\n",
       "      <td>132.4325</td>\n",
       "      <td>-12.15</td>\n",
       "      <td>89</td>\n",
       "      <td>100</td>\n",
       "      <td>6.89</td>\n",
       "      <td>1613249072</td>\n",
       "    </tr>\n",
       "    <tr>\n",
       "      <th>11</th>\n",
       "      <td>Saint-Philippe</td>\n",
       "      <td>935215</td>\n",
       "      <td>RE</td>\n",
       "      <td>-21.3585</td>\n",
       "      <td>55.7679</td>\n",
       "      <td>80.60</td>\n",
       "      <td>69</td>\n",
       "      <td>20</td>\n",
       "      <td>19.57</td>\n",
       "      <td>1613249073</td>\n",
       "    </tr>\n",
       "    <tr>\n",
       "      <th>12</th>\n",
       "      <td>Cayambe</td>\n",
       "      <td>3659578</td>\n",
       "      <td>EC</td>\n",
       "      <td>0.0500</td>\n",
       "      <td>-78.1333</td>\n",
       "      <td>69.80</td>\n",
       "      <td>56</td>\n",
       "      <td>40</td>\n",
       "      <td>19.57</td>\n",
       "      <td>1613249074</td>\n",
       "    </tr>\n",
       "    <tr>\n",
       "      <th>13</th>\n",
       "      <td>Yellowknife</td>\n",
       "      <td>6185377</td>\n",
       "      <td>CA</td>\n",
       "      <td>62.4560</td>\n",
       "      <td>-114.3525</td>\n",
       "      <td>-6.00</td>\n",
       "      <td>84</td>\n",
       "      <td>20</td>\n",
       "      <td>17.27</td>\n",
       "      <td>1613248851</td>\n",
       "    </tr>\n",
       "    <tr>\n",
       "      <th>14</th>\n",
       "      <td>Bethel</td>\n",
       "      <td>5282297</td>\n",
       "      <td>US</td>\n",
       "      <td>41.3712</td>\n",
       "      <td>-73.4140</td>\n",
       "      <td>28.40</td>\n",
       "      <td>31</td>\n",
       "      <td>90</td>\n",
       "      <td>4.61</td>\n",
       "      <td>1613248978</td>\n",
       "    </tr>\n",
       "    <tr>\n",
       "      <th>15</th>\n",
       "      <td>Severo-Kuril'sk</td>\n",
       "      <td>2121385</td>\n",
       "      <td>RU</td>\n",
       "      <td>50.6789</td>\n",
       "      <td>156.1250</td>\n",
       "      <td>24.55</td>\n",
       "      <td>93</td>\n",
       "      <td>89</td>\n",
       "      <td>8.72</td>\n",
       "      <td>1613249077</td>\n",
       "    </tr>\n",
       "    <tr>\n",
       "      <th>16</th>\n",
       "      <td>Mataura</td>\n",
       "      <td>6201424</td>\n",
       "      <td>NZ</td>\n",
       "      <td>-46.1927</td>\n",
       "      <td>168.8643</td>\n",
       "      <td>62.01</td>\n",
       "      <td>69</td>\n",
       "      <td>100</td>\n",
       "      <td>3.00</td>\n",
       "      <td>1613249078</td>\n",
       "    </tr>\n",
       "    <tr>\n",
       "      <th>17</th>\n",
       "      <td>Avarua</td>\n",
       "      <td>4035715</td>\n",
       "      <td>CK</td>\n",
       "      <td>-21.2078</td>\n",
       "      <td>-159.7750</td>\n",
       "      <td>84.20</td>\n",
       "      <td>70</td>\n",
       "      <td>13</td>\n",
       "      <td>4.61</td>\n",
       "      <td>1613249079</td>\n",
       "    </tr>\n",
       "    <tr>\n",
       "      <th>18</th>\n",
       "      <td>Atherton</td>\n",
       "      <td>2656847</td>\n",
       "      <td>GB</td>\n",
       "      <td>53.5237</td>\n",
       "      <td>-2.4935</td>\n",
       "      <td>34.00</td>\n",
       "      <td>48</td>\n",
       "      <td>100</td>\n",
       "      <td>11.99</td>\n",
       "      <td>1613249081</td>\n",
       "    </tr>\n",
       "    <tr>\n",
       "      <th>19</th>\n",
       "      <td>Narsaq</td>\n",
       "      <td>3421719</td>\n",
       "      <td>GL</td>\n",
       "      <td>60.9167</td>\n",
       "      <td>-46.0500</td>\n",
       "      <td>46.40</td>\n",
       "      <td>29</td>\n",
       "      <td>75</td>\n",
       "      <td>25.32</td>\n",
       "      <td>1613249082</td>\n",
       "    </tr>\n",
       "  </tbody>\n",
       "</table>\n",
       "</div>"
      ],
      "text/plain": [
       "            City Name  City Number City Country  Latitude  Longitude  \\\n",
       "0             Rikitea      4030556           PF  -23.1203  -134.9692   \n",
       "1       Krasnosel'kup      1502073           RU   65.7000    82.4667   \n",
       "2             Fortuna      5563839           US   40.5982  -124.1573   \n",
       "3             Karasuk      1504489           RU   53.7377    78.0403   \n",
       "4           Bundaberg      2173323           AU  -24.8500   152.3500   \n",
       "5   São João da Barra      3448903           BR  -21.6403   -41.0511   \n",
       "6              Thurso      2635881           GB   58.5927    -3.5259   \n",
       "7           Carnarvon      2074865           AU  -24.8667   113.6333   \n",
       "8        St. George's      3579925           GD   12.0564   -61.7485   \n",
       "9           Ilulissat      3423146           GL   69.2167   -51.1000   \n",
       "10          Churapcha      2025241           RU   62.0025   132.4325   \n",
       "11     Saint-Philippe       935215           RE  -21.3585    55.7679   \n",
       "12            Cayambe      3659578           EC    0.0500   -78.1333   \n",
       "13        Yellowknife      6185377           CA   62.4560  -114.3525   \n",
       "14             Bethel      5282297           US   41.3712   -73.4140   \n",
       "15    Severo-Kuril'sk      2121385           RU   50.6789   156.1250   \n",
       "16            Mataura      6201424           NZ  -46.1927   168.8643   \n",
       "17             Avarua      4035715           CK  -21.2078  -159.7750   \n",
       "18           Atherton      2656847           GB   53.5237    -2.4935   \n",
       "19             Narsaq      3421719           GL   60.9167   -46.0500   \n",
       "\n",
       "    Max Temperature  Humidity  Cloud Coverage  Wind Speed  City Datetime  \n",
       "0             79.48        76              42       11.99     1613249059  \n",
       "1            -33.18        82              45        7.65     1613249061  \n",
       "2             55.00        76              75        8.05     1613249062  \n",
       "3              7.47        95             100       10.45     1613249063  \n",
       "4             77.00        78              40        9.22     1613249064  \n",
       "5             80.60        74               0       18.41     1613249003  \n",
       "6             35.60        60             100       31.07     1613249066  \n",
       "7             77.00       100              39       10.36     1613249067  \n",
       "8             84.20        65              75       24.16     1613249068  \n",
       "9             17.60        79              75       16.11     1613249069  \n",
       "10           -12.15        89             100        6.89     1613249072  \n",
       "11            80.60        69              20       19.57     1613249073  \n",
       "12            69.80        56              40       19.57     1613249074  \n",
       "13            -6.00        84              20       17.27     1613248851  \n",
       "14            28.40        31              90        4.61     1613248978  \n",
       "15            24.55        93              89        8.72     1613249077  \n",
       "16            62.01        69             100        3.00     1613249078  \n",
       "17            84.20        70              13        4.61     1613249079  \n",
       "18            34.00        48             100       11.99     1613249081  \n",
       "19            46.40        29              75       25.32     1613249082  "
      ]
     },
     "execution_count": 7,
     "metadata": {},
     "output_type": "execute_result"
    }
   ],
   "source": [
    "city_results.head(20)"
   ]
  },
  {
   "cell_type": "markdown",
   "metadata": {},
   "source": [
    "## Inspect the data and remove the cities where the humidity > 100%.\n",
    "----\n",
    "Skip this step if there are no cities that have humidity > 100%. "
   ]
  },
  {
   "cell_type": "code",
   "execution_count": null,
   "metadata": {},
   "outputs": [],
   "source": []
  },
  {
   "cell_type": "code",
   "execution_count": 8,
   "metadata": {},
   "outputs": [
    {
     "name": "stdout",
     "output_type": "stream",
     "text": [
      "Int64Index([], dtype='int64')\n"
     ]
    }
   ],
   "source": [
    "humid_cities = []\n",
    "\n",
    "#  Get the indices of cities that have humidity over 100%.\n",
    "#get a list of cities that have humidity < 100\n",
    "humid_cities = city_results[city_results[\"Humidity\"] > 100].index\n",
    "\n",
    "print(humid_cities)\n"
   ]
  },
  {
   "cell_type": "code",
   "execution_count": 9,
   "metadata": {},
   "outputs": [
    {
     "data": {
      "text/html": [
       "<div>\n",
       "<style scoped>\n",
       "    .dataframe tbody tr th:only-of-type {\n",
       "        vertical-align: middle;\n",
       "    }\n",
       "\n",
       "    .dataframe tbody tr th {\n",
       "        vertical-align: top;\n",
       "    }\n",
       "\n",
       "    .dataframe thead th {\n",
       "        text-align: right;\n",
       "    }\n",
       "</style>\n",
       "<table border=\"1\" class=\"dataframe\">\n",
       "  <thead>\n",
       "    <tr style=\"text-align: right;\">\n",
       "      <th></th>\n",
       "      <th>City Name</th>\n",
       "      <th>City Number</th>\n",
       "      <th>City Country</th>\n",
       "      <th>Latitude</th>\n",
       "      <th>Longitude</th>\n",
       "      <th>Max Temperature</th>\n",
       "      <th>Humidity</th>\n",
       "      <th>Cloud Coverage</th>\n",
       "      <th>Wind Speed</th>\n",
       "      <th>City Datetime</th>\n",
       "    </tr>\n",
       "  </thead>\n",
       "  <tbody>\n",
       "    <tr>\n",
       "      <th>0</th>\n",
       "      <td>Rikitea</td>\n",
       "      <td>4030556</td>\n",
       "      <td>PF</td>\n",
       "      <td>-23.1203</td>\n",
       "      <td>-134.9692</td>\n",
       "      <td>79.48</td>\n",
       "      <td>76</td>\n",
       "      <td>42</td>\n",
       "      <td>11.99</td>\n",
       "      <td>1613249059</td>\n",
       "    </tr>\n",
       "    <tr>\n",
       "      <th>1</th>\n",
       "      <td>Krasnosel'kup</td>\n",
       "      <td>1502073</td>\n",
       "      <td>RU</td>\n",
       "      <td>65.7000</td>\n",
       "      <td>82.4667</td>\n",
       "      <td>-33.18</td>\n",
       "      <td>82</td>\n",
       "      <td>45</td>\n",
       "      <td>7.65</td>\n",
       "      <td>1613249061</td>\n",
       "    </tr>\n",
       "    <tr>\n",
       "      <th>2</th>\n",
       "      <td>Fortuna</td>\n",
       "      <td>5563839</td>\n",
       "      <td>US</td>\n",
       "      <td>40.5982</td>\n",
       "      <td>-124.1573</td>\n",
       "      <td>55.00</td>\n",
       "      <td>76</td>\n",
       "      <td>75</td>\n",
       "      <td>8.05</td>\n",
       "      <td>1613249062</td>\n",
       "    </tr>\n",
       "    <tr>\n",
       "      <th>3</th>\n",
       "      <td>Karasuk</td>\n",
       "      <td>1504489</td>\n",
       "      <td>RU</td>\n",
       "      <td>53.7377</td>\n",
       "      <td>78.0403</td>\n",
       "      <td>7.47</td>\n",
       "      <td>95</td>\n",
       "      <td>100</td>\n",
       "      <td>10.45</td>\n",
       "      <td>1613249063</td>\n",
       "    </tr>\n",
       "    <tr>\n",
       "      <th>4</th>\n",
       "      <td>Bundaberg</td>\n",
       "      <td>2173323</td>\n",
       "      <td>AU</td>\n",
       "      <td>-24.8500</td>\n",
       "      <td>152.3500</td>\n",
       "      <td>77.00</td>\n",
       "      <td>78</td>\n",
       "      <td>40</td>\n",
       "      <td>9.22</td>\n",
       "      <td>1613249064</td>\n",
       "    </tr>\n",
       "  </tbody>\n",
       "</table>\n",
       "</div>"
      ],
      "text/plain": [
       "       City Name  City Number City Country  Latitude  Longitude  \\\n",
       "0        Rikitea      4030556           PF  -23.1203  -134.9692   \n",
       "1  Krasnosel'kup      1502073           RU   65.7000    82.4667   \n",
       "2        Fortuna      5563839           US   40.5982  -124.1573   \n",
       "3        Karasuk      1504489           RU   53.7377    78.0403   \n",
       "4      Bundaberg      2173323           AU  -24.8500   152.3500   \n",
       "\n",
       "   Max Temperature  Humidity  Cloud Coverage  Wind Speed  City Datetime  \n",
       "0            79.48        76              42       11.99     1613249059  \n",
       "1           -33.18        82              45        7.65     1613249061  \n",
       "2            55.00        76              75        8.05     1613249062  \n",
       "3             7.47        95             100       10.45     1613249063  \n",
       "4            77.00        78              40        9.22     1613249064  "
      ]
     },
     "execution_count": 9,
     "metadata": {},
     "output_type": "execute_result"
    }
   ],
   "source": [
    "clean_city_data = city_results.drop(humid_cities,inplace = False)\n",
    "\n",
    "clean_city_data.head()"
   ]
  },
  {
   "cell_type": "markdown",
   "metadata": {},
   "source": [
    "## Plotting the Data\n",
    "* Use proper labeling of the plots using plot titles (including date of analysis) and axes labels.\n",
    "* Save the plotted figures as .pngs."
   ]
  },
  {
   "cell_type": "code",
   "execution_count": 10,
   "metadata": {},
   "outputs": [],
   "source": [
    "#retrieve the Temperature that will be used each time\n",
    "latitude = clean_city_data[\"Latitude\"]\n"
   ]
  },
  {
   "cell_type": "markdown",
   "metadata": {},
   "source": [
    "## Latitude vs. Temperature Plot"
   ]
  },
  {
   "cell_type": "code",
   "execution_count": 99,
   "metadata": {
    "scrolled": false
   },
   "outputs": [
    {
     "data": {
      "image/png": "[encoded data removed]",
      "text/plain": [
       "<Figure size 432x288 with 1 Axes>"
      ]
     },
     "metadata": {
      "needs_background": "light"
     },
     "output_type": "display_data"
    }
   ],
   "source": [
    "temperature = clean_city_data[\"Max Temperature\"]\n",
    "\n",
    "#using matplotlib\n",
    "plt.scatter(latitude, temperature, marker=\"o\", facecolors=\"red\", edgecolors=\"black\")\n",
    "plt.xlabel('Latitude')\n",
    "plt.ylabel('Max Temperature')\n",
    "plt.title(('Latitude vs Max Temperature (%s)' % time.strftime(\"%x\")))\n",
    "plt.savefig(\"lat_vs_max_temp\", bbox_inches='tight')\n",
    "\n",
    "plt.show()\n",
    "\n",
    "#the code is showing that there is a direct corellation between the latitude and the max temperature\n",
    "#the higher the latitued the lower the max temperature"
   ]
  },
  {
   "cell_type": "markdown",
   "metadata": {},
   "source": [
    "## Latitude vs. Humidity Plot"
   ]
  },
  {
   "cell_type": "code",
   "execution_count": 100,
   "metadata": {},
   "outputs": [
    {
     "data": {
      "text/plain": [
       "<function matplotlib.pyplot.show(*args, **kw)>"
      ]
     },
     "execution_count": 100,
     "metadata": {},
     "output_type": "execute_result"
    },
    {
     "data": {
      "image/png": "[encoded data removed]",
      "text/plain": [
       "<Figure size 432x288 with 1 Axes>"
      ]
     },
     "metadata": {
      "needs_background": "light"
     },
     "output_type": "display_data"
    }
   ],
   "source": [
    "humidity = clean_city_data[\"Humidity\"]\n",
    "\n",
    "plt.scatter(latitude, humidity, marker=\"o\", facecolors=\"red\", edgecolors=\"black\")\n",
    "plt.xlabel('Latitude')\n",
    "plt.ylabel('Humidity')\n",
    "plt.title(('Latitude vs Humidity (%s)' % time.strftime(\"%x\")))\n",
    "plt.savefig(\"lat_vs_humidity\", bbox_inches='tight')\n",
    "\n",
    "plt.show\n",
    "\n",
    "#there is not a corelation between the latitude and humidity"
   ]
  },
  {
   "cell_type": "markdown",
   "metadata": {},
   "source": [
    "## Latitude vs. Cloud Coverage Plot"
   ]
  },
  {
   "cell_type": "code",
   "execution_count": 101,
   "metadata": {},
   "outputs": [
    {
     "data": {
      "text/plain": [
       "<function matplotlib.pyplot.show(*args, **kw)>"
      ]
     },
     "execution_count": 101,
     "metadata": {},
     "output_type": "execute_result"
    },
    {
     "data": {
      "image/png": "[encoded data removed]",
      "text/plain": [
       "<Figure size 432x288 with 1 Axes>"
      ]
     },
     "metadata": {
      "needs_background": "light"
     },
     "output_type": "display_data"
    }
   ],
   "source": [
    "cloud_coverage = clean_city_data[\"Cloud Coverage\"]\n",
    "\n",
    "plt.scatter(latitude, cloud_coverage, marker=\"o\", facecolors=\"red\", edgecolors=\"black\")\n",
    "plt.xlabel('Latitude')\n",
    "plt.ylabel('Cloud Coverage')\n",
    "plt.title(('Latitude vs Cloud Coverage (%s)' % time.strftime(\"%x\")))\n",
    "plt.savefig(\"lat_vs_cloud_coverage\", bbox_inches='tight')\n",
    "\n",
    "plt.show\n",
    "\n",
    "#there is not a corelation between the latitude and cloudcoverage"
   ]
  },
  {
   "cell_type": "markdown",
   "metadata": {},
   "source": [
    "## Latitude vs. Wind Speed Plot"
   ]
  },
  {
   "cell_type": "code",
   "execution_count": 102,
   "metadata": {},
   "outputs": [
    {
     "data": {
      "text/plain": [
       "<function matplotlib.pyplot.show(*args, **kw)>"
      ]
     },
     "execution_count": 102,
     "metadata": {},
     "output_type": "execute_result"
    },
    {
     "data": {
      "image/png": "[encoded data removed]",
      "text/plain": [
       "<Figure size 432x288 with 1 Axes>"
      ]
     },
     "metadata": {
      "needs_background": "light"
     },
     "output_type": "display_data"
    }
   ],
   "source": [
    "wind_speed = clean_city_data[\"Wind Speed\"]\n",
    "\n",
    "plt.scatter(latitude, wind_speed, marker=\"o\", facecolors=\"red\", edgecolors=\"black\")\n",
    "plt.xlabel('Latitude')\n",
    "plt.ylabel('Wind Speed')\n",
    "plt.title(('Latitude vs Wind Speed (%s)' % time.strftime(\"%x\")))\n",
    "plt.savefig(\"lat_vs_wind_speed\", bbox_inches='tight')\n",
    "\n",
    "plt.show\n",
    "\n",
    "#there is not a corelation between the latitude and wind speed"
   ]
  },
  {
   "cell_type": "markdown",
   "metadata": {},
   "source": [
    "## Linear Regression"
   ]
  },
  {
   "cell_type": "code",
   "execution_count": 103,
   "metadata": {},
   "outputs": [
    {
     "name": "stdout",
     "output_type": "stream",
     "text": [
      "-0.06096986547430628\n"
     ]
    }
   ],
   "source": [
    "#the starter code had from scipy.stats import linregress\n",
    "\n",
    "w_slope, w_intercept, w_cap_r, w_cap_p, w_cap_std_err = linregress(latitude, humidity)\n",
    "\n",
    "\n",
    "print(w_slope)"
   ]
  },
  {
   "cell_type": "code",
   "execution_count": 104,
   "metadata": {},
   "outputs": [],
   "source": [
    "#function\n",
    "# Add the linear regression equation and line to plot\n",
    "def find_lin_reg(x_values, y_values, title, y_label, cordinates):\n",
    "\n",
    "    (slope, intercept, rvalue, pvalue, stderr) = linregress(x_values, y_values)\n",
    "    regress_values = x_values * slope + intercept\n",
    "    line_eq = \"y = \" + str(round(slope,2)) + \"x + \" + str(round(intercept,2))\n",
    "    plt.scatter(x_values,y_values)\n",
    "    plt.plot(x_values,regress_values,\"r-\")\n",
    "    plt.annotate(line_eq,cordinates,fontsize=15,color=\"red\")\n",
    "    plt.xlabel('Latitude')\n",
    "    plt.ylabel(y_label)\n",
    "    plt.title((title + '  (%s)' % time.strftime(\"%x\")))\n",
    "    plt.savefig(title)\n",
    "    plt.show()"
   ]
  },
  {
   "cell_type": "code",
   "execution_count": 105,
   "metadata": {},
   "outputs": [
    {
     "data": {
      "text/html": [
       "<div>\n",
       "<style scoped>\n",
       "    .dataframe tbody tr th:only-of-type {\n",
       "        vertical-align: middle;\n",
       "    }\n",
       "\n",
       "    .dataframe tbody tr th {\n",
       "        vertical-align: top;\n",
       "    }\n",
       "\n",
       "    .dataframe thead th {\n",
       "        text-align: right;\n",
       "    }\n",
       "</style>\n",
       "<table border=\"1\" class=\"dataframe\">\n",
       "  <thead>\n",
       "    <tr style=\"text-align: right;\">\n",
       "      <th></th>\n",
       "      <th>City Name</th>\n",
       "      <th>City Number</th>\n",
       "      <th>City Country</th>\n",
       "      <th>Latitude</th>\n",
       "      <th>Longitude</th>\n",
       "      <th>Max Temperature</th>\n",
       "      <th>Humidity</th>\n",
       "      <th>Cloud Coverage</th>\n",
       "      <th>Wind Speed</th>\n",
       "      <th>City Datetime</th>\n",
       "    </tr>\n",
       "  </thead>\n",
       "  <tbody>\n",
       "    <tr>\n",
       "      <th>0</th>\n",
       "      <td>Rikitea</td>\n",
       "      <td>4030556</td>\n",
       "      <td>PF</td>\n",
       "      <td>-23.1203</td>\n",
       "      <td>-134.9692</td>\n",
       "      <td>79.48</td>\n",
       "      <td>76</td>\n",
       "      <td>42</td>\n",
       "      <td>11.99</td>\n",
       "      <td>1613249059</td>\n",
       "    </tr>\n",
       "    <tr>\n",
       "      <th>4</th>\n",
       "      <td>Bundaberg</td>\n",
       "      <td>2173323</td>\n",
       "      <td>AU</td>\n",
       "      <td>-24.8500</td>\n",
       "      <td>152.3500</td>\n",
       "      <td>77.00</td>\n",
       "      <td>78</td>\n",
       "      <td>40</td>\n",
       "      <td>9.22</td>\n",
       "      <td>1613249064</td>\n",
       "    </tr>\n",
       "    <tr>\n",
       "      <th>5</th>\n",
       "      <td>São João da Barra</td>\n",
       "      <td>3448903</td>\n",
       "      <td>BR</td>\n",
       "      <td>-21.6403</td>\n",
       "      <td>-41.0511</td>\n",
       "      <td>80.60</td>\n",
       "      <td>74</td>\n",
       "      <td>0</td>\n",
       "      <td>18.41</td>\n",
       "      <td>1613249003</td>\n",
       "    </tr>\n",
       "    <tr>\n",
       "      <th>7</th>\n",
       "      <td>Carnarvon</td>\n",
       "      <td>2074865</td>\n",
       "      <td>AU</td>\n",
       "      <td>-24.8667</td>\n",
       "      <td>113.6333</td>\n",
       "      <td>77.00</td>\n",
       "      <td>100</td>\n",
       "      <td>39</td>\n",
       "      <td>10.36</td>\n",
       "      <td>1613249067</td>\n",
       "    </tr>\n",
       "    <tr>\n",
       "      <th>11</th>\n",
       "      <td>Saint-Philippe</td>\n",
       "      <td>935215</td>\n",
       "      <td>RE</td>\n",
       "      <td>-21.3585</td>\n",
       "      <td>55.7679</td>\n",
       "      <td>80.60</td>\n",
       "      <td>69</td>\n",
       "      <td>20</td>\n",
       "      <td>19.57</td>\n",
       "      <td>1613249073</td>\n",
       "    </tr>\n",
       "  </tbody>\n",
       "</table>\n",
       "</div>"
      ],
      "text/plain": [
       "            City Name  City Number City Country  Latitude  Longitude  \\\n",
       "0             Rikitea      4030556           PF  -23.1203  -134.9692   \n",
       "4           Bundaberg      2173323           AU  -24.8500   152.3500   \n",
       "5   São João da Barra      3448903           BR  -21.6403   -41.0511   \n",
       "7           Carnarvon      2074865           AU  -24.8667   113.6333   \n",
       "11     Saint-Philippe       935215           RE  -21.3585    55.7679   \n",
       "\n",
       "    Max Temperature  Humidity  Cloud Coverage  Wind Speed  City Datetime  \n",
       "0             79.48        76              42       11.99     1613249059  \n",
       "4             77.00        78              40        9.22     1613249064  \n",
       "5             80.60        74               0       18.41     1613249003  \n",
       "7             77.00       100              39       10.36     1613249067  \n",
       "11            80.60        69              20       19.57     1613249073  "
      ]
     },
     "execution_count": 105,
     "metadata": {},
     "output_type": "execute_result"
    }
   ],
   "source": [
    "northern_data = clean_city_data.loc[clean_city_data[\"Latitude\"]>= 0]\n",
    "southern_data = clean_city_data.loc[clean_city_data[\"Latitude\"]< 0]\n",
    "southern_data.head()"
   ]
  },
  {
   "cell_type": "markdown",
   "metadata": {},
   "source": [
    "####  Northern Hemisphere - Max Temp vs. Latitude Linear Regression"
   ]
  },
  {
   "cell_type": "code",
   "execution_count": 106,
   "metadata": {},
   "outputs": [
    {
     "data": {
      "image/png": "[encoded data removed]",
      "text/plain": [
       "<Figure size 432x288 with 1 Axes>"
      ]
     },
     "metadata": {
      "needs_background": "light"
     },
     "output_type": "display_data"
    }
   ],
   "source": [
    "x_values = northern_data[\"Latitude\"]\n",
    "y_values = northern_data[\"Max Temperature\"]\n",
    "title = \"Northern Hemisphere - Max Temp vs Latitude Linear Regression\"\n",
    "y_label = \"Max Temperature\"\n",
    "\n",
    "find_lin_reg(x_values, y_values, title, y_label, (5,-30))\n",
    "\n",
    "\n"
   ]
  },
  {
   "cell_type": "markdown",
   "metadata": {},
   "source": [
    "####  Southern Hemisphere - Max Temp vs. Latitude Linear Regression"
   ]
  },
  {
   "cell_type": "code",
   "execution_count": 107,
   "metadata": {},
   "outputs": [
    {
     "data": {
      "image/png": "[encoded data removed]",
      "text/plain": [
       "<Figure size 432x288 with 1 Axes>"
      ]
     },
     "metadata": {
      "needs_background": "light"
     },
     "output_type": "display_data"
    }
   ],
   "source": [
    "x_values = southern_data[\"Latitude\"]\n",
    "y_values = southern_data[\"Max Temperature\"]\n",
    "title = \"Southern Hemisphere - Max Temp vs Latitude Linear Regression\"\n",
    "y_label = \"Max Temperature\"\n",
    "\n",
    "find_lin_reg(x_values, y_values, title, y_label, (-25,50))\n"
   ]
  },
  {
   "cell_type": "markdown",
   "metadata": {},
   "source": [
    "####  Northern Hemisphere - Humidity (%) vs. Latitude Linear Regression"
   ]
  },
  {
   "cell_type": "code",
   "execution_count": 108,
   "metadata": {},
   "outputs": [
    {
     "data": {
      "image/png": "[encoded data removed]",
      "text/plain": [
       "<Figure size 432x288 with 1 Axes>"
      ]
     },
     "metadata": {
      "needs_background": "light"
     },
     "output_type": "display_data"
    }
   ],
   "source": [
    "x_values = northern_data[\"Latitude\"]\n",
    "y_values = northern_data[\"Humidity\"]\n",
    "title = \"Northern Hemisphere - Humidity (%) vs Latitude Linear Regression\"\n",
    "y_label = \"Humidity\"\n",
    "\n",
    "find_lin_reg(x_values, y_values, title, y_label, (3,35))"
   ]
  },
  {
   "cell_type": "markdown",
   "metadata": {},
   "source": [
    "####  Southern Hemisphere - Humidity (%) vs. Latitude Linear Regression"
   ]
  },
  {
   "cell_type": "code",
   "execution_count": 109,
   "metadata": {},
   "outputs": [
    {
     "data": {
      "image/png": "[encoded data removed]",
      "text/plain": [
       "<Figure size 432x288 with 1 Axes>"
      ]
     },
     "metadata": {
      "needs_background": "light"
     },
     "output_type": "display_data"
    }
   ],
   "source": [
    "x_values = southern_data[\"Latitude\"]\n",
    "y_values = southern_data[\"Humidity\"]\n",
    "title = \"Southern Hemisphere - Humidity (%) vs Latitude Linear Regression\"\n",
    "y_label = \"Humidity\"\n",
    "\n",
    "find_lin_reg(x_values, y_values, title, y_label, (-30,50))"
   ]
  },
  {
   "cell_type": "markdown",
   "metadata": {},
   "source": [
    "####  Northern Hemisphere - Cloud Coverage (%) vs. Latitude Linear Regression"
   ]
  },
  {
   "cell_type": "code",
   "execution_count": 112,
   "metadata": {},
   "outputs": [
    {
     "data": {
      "image/png": "[encoded data removed]",
      "text/plain": [
       "<Figure size 432x288 with 1 Axes>"
      ]
     },
     "metadata": {
      "needs_background": "light"
     },
     "output_type": "display_data"
    }
   ],
   "source": [
    "x_values = northern_data[\"Latitude\"]\n",
    "y_values = northern_data[\"Cloud Coverage\"]\n",
    "title = \"Northern Hemisphere - Cloud Coverage (%) vs Latitude Linear Regression\"\n",
    "y_label = \"Cloud Coverage\"\n",
    "\n",
    "find_lin_reg(x_values, y_values, title, y_label, (10,20))"
   ]
  },
  {
   "cell_type": "markdown",
   "metadata": {},
   "source": [
    "####  Southern Hemisphere - Cloud Coverage (%) vs. Latitude Linear Regression"
   ]
  },
  {
   "cell_type": "code",
   "execution_count": 116,
   "metadata": {},
   "outputs": [
    {
     "data": {
      "image/png": "[encoded data removed]",
      "text/plain": [
       "<Figure size 432x288 with 1 Axes>"
      ]
     },
     "metadata": {
      "needs_background": "light"
     },
     "output_type": "display_data"
    }
   ],
   "source": [
    "x_values = southern_data[\"Latitude\"]\n",
    "y_values = southern_data[\"Cloud Coverage\"]\n",
    "title = \"Southern Hemisphere - Cloud Coverage (%) vs Latitude Linear Regression\"\n",
    "y_label = \"Cloud Coverage\"\n",
    "\n",
    "find_lin_reg(x_values, y_values, title, y_label, (-40,70))"
   ]
  },
  {
   "cell_type": "markdown",
   "metadata": {},
   "source": [
    "####  Northern Hemisphere - Wind Speed (mph) vs. Latitude Linear Regression"
   ]
  },
  {
   "cell_type": "code",
   "execution_count": 114,
   "metadata": {},
   "outputs": [
    {
     "data": {
      "image/png": "[encoded data removed]",
      "text/plain": [
       "<Figure size 432x288 with 1 Axes>"
      ]
     },
     "metadata": {
      "needs_background": "light"
     },
     "output_type": "display_data"
    }
   ],
   "source": [
    "x_values = northern_data[\"Latitude\"]\n",
    "y_values = northern_data[\"Wind Speed\"]\n",
    "title = \"Northern Hemisphere - Wind Speed (mph) vs Latitude Linear Regression\"\n",
    "y_label = \"Wind Speed\"\n",
    "\n",
    "find_lin_reg(x_values, y_values, title, y_label, (5,28))"
   ]
  },
  {
   "cell_type": "markdown",
   "metadata": {},
   "source": [
    "####  Southern Hemisphere - Wind Speed (mph) vs. Latitude Linear Regression"
   ]
  },
  {
   "cell_type": "code",
   "execution_count": 115,
   "metadata": {},
   "outputs": [
    {
     "data": {
      "image/png": "[encoded data removed]",
      "text/plain": [
       "<Figure size 432x288 with 1 Axes>"
      ]
     },
     "metadata": {
      "needs_background": "light"
     },
     "output_type": "display_data"
    }
   ],
   "source": [
    "x_values = southern_data[\"Latitude\"]\n",
    "y_values = southern_data[\"Wind Speed\"]\n",
    "title = \"Southern Hemisphere - Wind Speed (mph) vs Latitude Linear Regression\"\n",
    "y_label = \"Wind Speed\"\n",
    "\n",
    "find_lin_reg(x_values, y_values, title, y_label, (-30, 23))"
   ]
  },
  {
   "cell_type": "code",
   "execution_count": null,
   "metadata": {},
   "outputs": [],
   "source": []
  },
  {
   "cell_type": "code",
   "execution_count": null,
   "metadata": {},
   "outputs": [],
   "source": []
  }
 ],
 "metadata": {
  "anaconda-cloud": {},
  "kernel_info": {
   "name": "python3"
  },
  "kernelspec": {
   "display_name": "Python 3",
   "language": "python",
   "name": "python3"
  },
  "language_info": {
   "codemirror_mode": {
    "name": "ipython",
    "version": 3
   },
   "file_extension": ".py",
   "mimetype": "text/x-python",
   "name": "python",
   "nbconvert_exporter": "python",
   "pygments_lexer": "ipython3",
   "version": "3.6.10"
  },
  "latex_envs": {
   "LaTeX_envs_menu_present": true,
   "autoclose": false,
   "autocomplete": true,
   "bibliofile": "biblio.bib",
   "cite_by": "apalike",
   "current_citInitial": 1,
   "eqLabelWithNumbers": true,
   "eqNumInitial": 1,
   "hotkeys": {
    "equation": "Ctrl-E",
    "itemize": "Ctrl-I"
   },
   "labels_anchors": false,
   "latex_user_defs": false,
   "report_style_numbering": false,
   "user_envs_cfg": false
  },
  "nteract": {
   "version": "0.12.3"
  }
 },
 "nbformat": 4,
 "nbformat_minor": 2
}
